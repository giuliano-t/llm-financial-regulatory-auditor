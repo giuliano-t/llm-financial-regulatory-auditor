{
  "cells": [
    {
      "cell_type": "markdown",
      "metadata": {
        "id": "BVWVDjO_XcfQ"
      },
      "source": [
        "# INSTALL AND IMPORT PACKAGES"
      ]
    },
    {
      "cell_type": "code",
      "execution_count": null,
      "metadata": {
        "colab": {
          "base_uri": "https://localhost:8080/"
        },
        "id": "OR4BFR200_PX",
        "outputId": "dc4a7a9d-c649-40cf-9c52-003e71c9933d"
      },
      "outputs": [
        {
          "name": "stdout",
          "output_type": "stream",
          "text": [
            "\u001b[2K     \u001b[90m━━━━━━━━━━━━━━━━━━━━━━━━━━━━━━━━━━━━━━━━\u001b[0m \u001b[32m61.0/61.0 kB\u001b[0m \u001b[31m4.7 MB/s\u001b[0m eta \u001b[36m0:00:00\u001b[0m\n",
            "\u001b[2K   \u001b[90m━━━━━━━━━━━━━━━━━━━━━━━━━━━━━━━━━━━━━━━━\u001b[0m \u001b[32m18.3/18.3 MB\u001b[0m \u001b[31m78.0 MB/s\u001b[0m eta \u001b[36m0:00:00\u001b[0m\n",
            "\u001b[?25h\u001b[31mERROR: pip's dependency resolver does not currently take into account all the packages that are installed. This behaviour is the source of the following dependency conflicts.\n",
            "thinc 8.3.6 requires numpy<3.0.0,>=2.0.0, but you have numpy 1.26.4 which is incompatible.\n",
            "opencv-contrib-python 4.12.0.88 requires numpy<2.3.0,>=2; python_version >= \"3.9\", but you have numpy 1.26.4 which is incompatible.\n",
            "opencv-python 4.12.0.88 requires numpy<2.3.0,>=2; python_version >= \"3.9\", but you have numpy 1.26.4 which is incompatible.\n",
            "opencv-python-headless 4.12.0.88 requires numpy<2.3.0,>=2; python_version >= \"3.9\", but you have numpy 1.26.4 which is incompatible.\u001b[0m\u001b[31m\n",
            "\u001b[2K     \u001b[90m━━━━━━━━━━━━━━━━━━━━━━━━━━━━━━━━━━━━━━━━\u001b[0m \u001b[32m60.6/60.6 kB\u001b[0m \u001b[31m5.4 MB/s\u001b[0m eta \u001b[36m0:00:00\u001b[0m\n",
            "\u001b[2K   \u001b[90m━━━━━━━━━━━━━━━━━━━━━━━━━━━━━━━━━━━━━━━━\u001b[0m \u001b[32m26.7/26.7 MB\u001b[0m \u001b[31m45.0 MB/s\u001b[0m eta \u001b[36m0:00:00\u001b[0m\n",
            "\u001b[2K   \u001b[90m━━━━━━━━━━━━━━━━━━━━━━━━━━━━━━━━━━━━━━━━\u001b[0m \u001b[32m38.6/38.6 MB\u001b[0m \u001b[31m16.6 MB/s\u001b[0m eta \u001b[36m0:00:00\u001b[0m\n",
            "\u001b[?25h\u001b[31mERROR: pip's dependency resolver does not currently take into account all the packages that are installed. This behaviour is the source of the following dependency conflicts.\n",
            "tsfresh 0.21.0 requires scipy>=1.14.0; python_version >= \"3.10\", but you have scipy 1.13.1 which is incompatible.\u001b[0m\u001b[31m\n",
            "\u001b[2K   \u001b[90m━━━━━━━━━━━━━━━━━━━━━━━━━━━━━━━━━━━━━━━━\u001b[0m \u001b[32m2.6/2.6 MB\u001b[0m \u001b[31m80.1 MB/s\u001b[0m eta \u001b[36m0:00:00\u001b[0m\n",
            "\u001b[2K   \u001b[90m━━━━━━━━━━━━━━━━━━━━━━━━━━━━━━━━━━━━━━━━\u001b[0m \u001b[32m24.1/24.1 MB\u001b[0m \u001b[31m49.9 MB/s\u001b[0m eta \u001b[36m0:00:00\u001b[0m\n",
            "\u001b[2K   \u001b[90m━━━━━━━━━━━━━━━━━━━━━━━━━━━━━━━━━━━━━━━━\u001b[0m \u001b[32m232.6/232.6 kB\u001b[0m \u001b[31m18.2 MB/s\u001b[0m eta \u001b[36m0:00:00\u001b[0m\n",
            "\u001b[2K     \u001b[90m━━━━━━━━━━━━━━━━━━━━━━━━━━━━━━━━━━━━━━━\u001b[0m \u001b[32m186.8/186.8 MB\u001b[0m \u001b[31m6.9 MB/s\u001b[0m eta \u001b[36m0:00:00\u001b[0m\n",
            "\u001b[2K     \u001b[90m━━━━━━━━━━━━━━━━━━━━━━━━━━━━━━━━━━━━━━━━\u001b[0m \u001b[32m1.6/1.6 MB\u001b[0m \u001b[31m56.0 MB/s\u001b[0m eta \u001b[36m0:00:00\u001b[0m\n",
            "\u001b[?25h\u001b[31mERROR: pip's dependency resolver does not currently take into account all the packages that are installed. This behaviour is the source of the following dependency conflicts.\n",
            "torchaudio 2.6.0+cu124 requires torch==2.6.0, but you have torch 2.2.2+cpu which is incompatible.\u001b[0m\u001b[31m\n",
            "\u001b[2K     \u001b[90m━━━━━━━━━━━━━━━━━━━━━━━━━━━━━━━━━━━━━━\u001b[0m \u001b[32m138.0/138.0 kB\u001b[0m \u001b[31m11.3 MB/s\u001b[0m eta \u001b[36m0:00:00\u001b[0m\n",
            "\u001b[2K   \u001b[90m━━━━━━━━━━━━━━━━━━━━━━━━━━━━━━━━━━━━━━━━\u001b[0m \u001b[32m9.0/9.0 MB\u001b[0m \u001b[31m69.7 MB/s\u001b[0m eta \u001b[36m0:00:00\u001b[0m\n",
            "\u001b[2K   \u001b[90m━━━━━━━━━━━━━━━━━━━━━━━━━━━━━━━━━━━━━━━━\u001b[0m \u001b[32m280.0/280.0 kB\u001b[0m \u001b[31m26.2 MB/s\u001b[0m eta \u001b[36m0:00:00\u001b[0m\n",
            "\u001b[2K   \u001b[90m━━━━━━━━━━━━━━━━━━━━━━━━━━━━━━━━━━━━━━━━\u001b[0m \u001b[32m156.5/156.5 kB\u001b[0m \u001b[31m13.4 MB/s\u001b[0m eta \u001b[36m0:00:00\u001b[0m\n",
            "\u001b[2K   \u001b[90m━━━━━━━━━━━━━━━━━━━━━━━━━━━━━━━━━━━━━━━━\u001b[0m \u001b[32m3.6/3.6 MB\u001b[0m \u001b[31m78.4 MB/s\u001b[0m eta \u001b[36m0:00:00\u001b[0m\n",
            "\u001b[2K   \u001b[90m━━━━━━━━━━━━━━━━━━━━━━━━━━━━━━━━━━━━━━━━\u001b[0m \u001b[32m143.7/143.7 kB\u001b[0m \u001b[31m10.5 MB/s\u001b[0m eta \u001b[36m0:00:00\u001b[0m\n",
            "\u001b[?25h"
          ]
        }
      ],
      "source": [
        "# Install numpy first to avoid ABI mismatches\n",
        "!pip install -q numpy==1.26.4\n",
        "\n",
        "# Reinstall other core packages safely\n",
        "!pip install -q scipy\n",
        "!pip install -q gensim\n",
        "!pip install -q pyldavis\n",
        "!pip install -q pymupdf\n",
        "!pip install PyPDF2 -q\n",
        "\n",
        "# Install compatible torch + torchvision (CPU version to avoid CUDA mismatches)\n",
        "!pip install -q torch==2.2.2 torchvision==0.17.2 --index-url https://download.pytorch.org/whl/cpu\n",
        "\n",
        "# Install BERTopic stack\n",
        "!pip install -q transformers==4.40.2 accelerate==0.27.2 sentence-transformers==2.5.1\n",
        "!pip install -q bertopic==0.16.4\n",
        "\n",
        "# Force a runtime restart (Google Colab will auto-reconnect)\n",
        "import os\n",
        "os._exit(0)"
      ]
    },
    {
      "cell_type": "markdown",
      "metadata": {
        "id": "_5EfbQvYsvX9"
      },
      "source": [
        "Necessary libraries and packages are imported here"
      ]
    },
    {
      "cell_type": "code",
      "execution_count": 1,
      "metadata": {
        "id": "-YPtgpgzXRKI"
      },
      "outputs": [],
      "source": [
        "import pandas as pd\n",
        "import numpy as np\n",
        "import json\n",
        "import gdown\n",
        "import os\n",
        "import logging\n",
        "import re\n",
        "from typing import Dict, List, Optional, Tuple, Any\n",
        "from pathlib import Path\n",
        "import PyPDF2\n",
        "from dataclasses import dataclass, asdict\n",
        "from datetime import datetime\n",
        "import time\n",
        "from collections import defaultdict\n",
        "import warnings\n",
        "warnings.filterwarnings('ignore')"
      ]
    },
    {
      "cell_type": "markdown",
      "metadata": {
        "id": "ox_PeDR6XiCy"
      },
      "source": [
        "# IMPORT AGENT 3 INPUT AND OUTPUT DATA"
      ]
    },
    {
      "cell_type": "code",
      "execution_count": 2,
      "metadata": {
        "id": "_SNtUN1LX7w0"
      },
      "outputs": [],
      "source": [
        "def convert_drive_view_to_gdown(view_link: str) -> str:\n",
        "    \"\"\"\n",
        "    Convert a Google Drive 'view' link to a gdown-compatible download link.\n",
        "\n",
        "    Parameters:\n",
        "        view_link (str): The full Google Drive view link.\n",
        "\n",
        "    Returns:\n",
        "        str: gdown-compatible direct download link, or raises ValueError if invalid.\n",
        "    \"\"\"\n",
        "    match = re.search(r\"/d/([a-zA-Z0-9_-]+)\", view_link)\n",
        "    if not match:\n",
        "        raise ValueError(\"Invalid Google Drive view link format.\")\n",
        "    file_id = match.group(1)\n",
        "    return f\"https://drive.google.com/uc?id={file_id}\""
      ]
    },
    {
      "cell_type": "code",
      "execution_count": 3,
      "metadata": {
        "id": "_nB1qne6XiUa"
      },
      "outputs": [],
      "source": [
        "google_link = 'https://drive.google.com/file/d/1N8UVXBWPqgO0aC0xU0uixMJS80zm4vRV/view?usp=drive_link'"
      ]
    },
    {
      "cell_type": "code",
      "execution_count": 4,
      "metadata": {
        "colab": {
          "base_uri": "https://localhost:8080/"
        },
        "id": "XFBVPzSbX-3O",
        "outputId": "0fe676d3-ca5d-4fc6-9454-f32f93e512e9"
      },
      "outputs": [
        {
          "name": "stderr",
          "output_type": "stream",
          "text": [
            "Downloading...\n",
            "From: https://drive.google.com/uc?id=1N8UVXBWPqgO0aC0xU0uixMJS80zm4vRV\n",
            "To: /content/Input_Output_Data.csv\n",
            "100%|██████████| 160k/160k [00:00<00:00, 76.8MB/s]\n"
          ]
        }
      ],
      "source": [
        "gdrive_url = convert_drive_view_to_gdown(google_link)\n",
        "\n",
        "gdown.download(gdrive_url, 'Input_Output_Data.csv', quiet=False)\n",
        "\n",
        "temp_df = pd.read_csv('Input_Output_Data.csv')\n",
        "\n",
        "temp_df = temp_df[(temp_df['thread_type']=='qa_exchange') & (temp_df['document_type']=='transcript')]"
      ]
    },
    {
      "cell_type": "markdown",
      "metadata": {
        "id": "M4l1Sro3y_Z4"
      },
      "source": [
        "**Input vs Output Data Structure:**\n",
        "\n",
        "This block splits the dataframe into two parts:\n",
        "\n",
        "- `input_data`: metadata and raw conversation for each thread. These columns describe the context, participants, and structure of the earnings call conversation. This is what the LLM (Agent 3) originally received as input.\n",
        "\n",
        "- `output_data`: all remaining columns, which contain the structured JSON-style outputs generated by Agent 3. Each row contains 50+ flattened metrics across regulatory, conversational, and linguistic domains.\n",
        "\n",
        "This split allows us to reconstruct the original input/output pair for each thread and pass them to the meta-evaluation framework.\n"
      ]
    },
    {
      "cell_type": "code",
      "execution_count": 5,
      "metadata": {
        "id": "rsp4DsASYKVV"
      },
      "outputs": [],
      "source": [
        "input_columns = ['earnings_id', 'bank_id', 'quarter_year', 'document_type', 'thread_id',\n",
        "       'thread_type', 'full_conversation_text', 'conversation_length',\n",
        "       'participants_json', 'primary_executive', 'primary_analyst',\n",
        "       'question_count', 'follow_up_count', 'source_segments_json']\n",
        "input_data = temp_df[input_columns].iloc[:25]\n",
        "output_data = temp_df.drop(columns=input_columns).iloc[:25]"
      ]
    },
    {
      "cell_type": "code",
      "execution_count": 6,
      "metadata": {
        "colab": {
          "base_uri": "https://localhost:8080/",
          "height": 400
        },
        "id": "MZ757u6Nb-wM",
        "outputId": "7e078f1d-b9e4-40fc-96c0-7e561b29c9d3"
      },
      "outputs": [
        {
          "data": {
            "application/vnd.google.colaboratory.intrinsic+json": {
              "summary": "{\n  \"name\": \"input_data\",\n  \"rows\": 11,\n  \"fields\": [\n    {\n      \"column\": \"earnings_id\",\n      \"properties\": {\n        \"dtype\": \"category\",\n        \"num_unique_values\": 1,\n        \"samples\": [\n          \"HSBC_Q1_2023\"\n        ],\n        \"semantic_type\": \"\",\n        \"description\": \"\"\n      }\n    },\n    {\n      \"column\": \"bank_id\",\n      \"properties\": {\n        \"dtype\": \"category\",\n        \"num_unique_values\": 1,\n        \"samples\": [\n          \"HSBC\"\n        ],\n        \"semantic_type\": \"\",\n        \"description\": \"\"\n      }\n    },\n    {\n      \"column\": \"quarter_year\",\n      \"properties\": {\n        \"dtype\": \"category\",\n        \"num_unique_values\": 1,\n        \"samples\": [\n          \"Q1_2023\"\n        ],\n        \"semantic_type\": \"\",\n        \"description\": \"\"\n      }\n    },\n    {\n      \"column\": \"document_type\",\n      \"properties\": {\n        \"dtype\": \"category\",\n        \"num_unique_values\": 1,\n        \"samples\": [\n          \"transcript\"\n        ],\n        \"semantic_type\": \"\",\n        \"description\": \"\"\n      }\n    },\n    {\n      \"column\": \"thread_id\",\n      \"properties\": {\n        \"dtype\": \"string\",\n        \"num_unique_values\": 11,\n        \"samples\": [\n          \"thread_qa_006\"\n        ],\n        \"semantic_type\": \"\",\n        \"description\": \"\"\n      }\n    },\n    {\n      \"column\": \"thread_type\",\n      \"properties\": {\n        \"dtype\": \"category\",\n        \"num_unique_values\": 1,\n        \"samples\": [\n          \"qa_exchange\"\n        ],\n        \"semantic_type\": \"\",\n        \"description\": \"\"\n      }\n    },\n    {\n      \"column\": \"full_conversation_text\",\n      \"properties\": {\n        \"dtype\": \"string\",\n        \"num_unique_values\": 11,\n        \"samples\": [\n          \"Good morning. One strategic question and then one numbers question. On the strategic question, if the proposed French retail sale no longer goes ahead what would be the plan? Would you put it back on the block again or would there be a plan to reabsorb it into the broader HSBC Group? Is there anything you can say on plans for France, given that sale process and where we've got to? Secondly, on costs, you've actually had a very good cost print in this quarter. You've down 2% year on year on a constant currency basis, and yet you're still guiding to 3% cost growth or 4% with SVB UK. Is this a timing issue? Is it a case of the wage inflation coming through from Q2? Is there anything you can elaborate there?\\n\\nTwo good questions. Georges will cover the second one and I'll cover the first one. We still believe that a sale of the French retail business is the right strategic outcome. That business probably has a stronger future in another purchaser's hands, however we have been in discussions for a few weeks now with the current buyer to try and overcome the challenge they have on their acquisition accounting impact on their capital base. We'll continue that dialogue. We're hoping we can reach a mutually agreeable settlement with them on that, but we can't be guaranteed of that outcome. We have to consider what is financially the right decision for all shareholders. It's hopeful that we can reach an agreement but it's not guaranteed. In the event we can't, then I still think we'll continue to run the business, but I still think over time we wouldn't see that as a long-term strategic hold, but we're happy to wait and see what happens thereafter. We're very much focused on trying to reach an agreement with the current buyer to bring that transaction to a close. That's the update I have for you on costs. I'll hand over to Georges.\\n\\nThank you Andrew for the question. Our reported costs on a constant currency basis is down 2% Q1 last year to Q1 this year. If you adjust for notables \\u2013 and remember last year Q1 we had $450 million of additional costs due to the CTA programme. If you extract that notable item from last year's base, our reported cost adjusted for notables will show us up 2% Q1 to Q1. This is the basis on which we're measuring ourselves for this year. It's on that basis where we are targeting to achieve a 3% annualised number where our Q1 basically is coming in at 2%. Why from 2% to 3%? I just want to highlight a few things. The first one is we still haven't incurred, by and large, the severance costs which we announced at the year-end, and now we expect to incur the majority of it in Q2 this year. The second element, just to highlight, is that some of the pay increases have only been effected partially in Q1 starting March, and will start being fully effected in Q2 onwards. This is why our 3% target for the full year is where it is. As you said, Andrew, and just for avoidance of any doubt here, the acquired cost of SVB and some of the additional investments we need to do there will add another 1% to that 3% target.\\n\\nSo just a couple of additional comments from me. On that reconciliation between the headline reporting number and the cost target, what we're trying to do is be very straightforward and not try and bake in what was a CTA last year into the cost base of this year. So we're adjusting the prior year reported number for the notable CTA last year so that the cost target of 3% is on an 'apples and apples' basis with the cost base of this year, so we're not looking to take an easy option on that. We think it's the right thing to do, but as we say, we're in 2% against the 3% target in Q1. And then on SVB, I just want to clarify as well, the SVB business we bought, we acquired a cost base with that, and we acquired a revenue stream, and that revenue stream was in excess of the cost base. We've acquired a positive P&L that was contributing, if I remember correctly, around about $80 to $90 million of PBT. So although we've acquired \\u2013 the majority of the $300 million is the acquired cost base of SVB, it is a profitable cost base.\\n\\nAndy, just to finish off, we provided a reconciliation on slide 30 to show you the work from reported cost to our cost target, and we will be showing this slide every quarter.\"\n        ],\n        \"semantic_type\": \"\",\n        \"description\": \"\"\n      }\n    },\n    {\n      \"column\": \"conversation_length\",\n      \"properties\": {\n        \"dtype\": \"number\",\n        \"std\": 1221,\n        \"min\": 1034,\n        \"max\": 4283,\n        \"num_unique_values\": 11,\n        \"samples\": [\n          4283\n        ],\n        \"semantic_type\": \"\",\n        \"description\": \"\"\n      }\n    },\n    {\n      \"column\": \"participants_json\",\n      \"properties\": {\n        \"dtype\": \"string\",\n        \"num_unique_values\": 11,\n        \"samples\": [\n          \"[{\\\"name\\\": \\\"Andrew Coombs\\\", \\\"title\\\": \\\"Analyst\\\", \\\"role\\\": \\\"analyst\\\"}, {\\\"name\\\": \\\"Noel Quinn\\\", \\\"title\\\": \\\"Executive\\\", \\\"role\\\": \\\"executive\\\"}, {\\\"name\\\": \\\"Georges Elhedery\\\", \\\"title\\\": \\\"Executive\\\", \\\"role\\\": \\\"executive\\\"}]\"\n        ],\n        \"semantic_type\": \"\",\n        \"description\": \"\"\n      }\n    },\n    {\n      \"column\": \"primary_executive\",\n      \"properties\": {\n        \"dtype\": \"category\",\n        \"num_unique_values\": 2,\n        \"samples\": [\n          \"Noel Quinn\"\n        ],\n        \"semantic_type\": \"\",\n        \"description\": \"\"\n      }\n    },\n    {\n      \"column\": \"primary_analyst\",\n      \"properties\": {\n        \"dtype\": \"string\",\n        \"num_unique_values\": 11,\n        \"samples\": [\n          \"Andrew Coombs\"\n        ],\n        \"semantic_type\": \"\",\n        \"description\": \"\"\n      }\n    },\n    {\n      \"column\": \"question_count\",\n      \"properties\": {\n        \"dtype\": \"number\",\n        \"std\": 0,\n        \"min\": 1,\n        \"max\": 1,\n        \"num_unique_values\": 1,\n        \"samples\": [\n          1\n        ],\n        \"semantic_type\": \"\",\n        \"description\": \"\"\n      }\n    },\n    {\n      \"column\": \"follow_up_count\",\n      \"properties\": {\n        \"dtype\": \"number\",\n        \"std\": 0,\n        \"min\": 0,\n        \"max\": 1,\n        \"num_unique_values\": 2,\n        \"samples\": [\n          1\n        ],\n        \"semantic_type\": \"\",\n        \"description\": \"\"\n      }\n    },\n    {\n      \"column\": \"source_segments_json\",\n      \"properties\": {\n        \"dtype\": \"string\",\n        \"num_unique_values\": 11,\n        \"samples\": [\n          \"[\\\"tr_seg_019\\\", \\\"tr_seg_020\\\", \\\"tr_seg_021\\\", \\\"tr_seg_022\\\", \\\"tr_seg_023\\\"]\"\n        ],\n        \"semantic_type\": \"\",\n        \"description\": \"\"\n      }\n    }\n  ]\n}",
              "type": "dataframe",
              "variable_name": "input_data"
            },
            "text/html": [
              "\n",
              "  <div id=\"df-3fb2653e-b20d-4f59-bad7-54255d577823\" class=\"colab-df-container\">\n",
              "    <div>\n",
              "<style scoped>\n",
              "    .dataframe tbody tr th:only-of-type {\n",
              "        vertical-align: middle;\n",
              "    }\n",
              "\n",
              "    .dataframe tbody tr th {\n",
              "        vertical-align: top;\n",
              "    }\n",
              "\n",
              "    .dataframe thead th {\n",
              "        text-align: right;\n",
              "    }\n",
              "</style>\n",
              "<table border=\"1\" class=\"dataframe\">\n",
              "  <thead>\n",
              "    <tr style=\"text-align: right;\">\n",
              "      <th></th>\n",
              "      <th>earnings_id</th>\n",
              "      <th>bank_id</th>\n",
              "      <th>quarter_year</th>\n",
              "      <th>document_type</th>\n",
              "      <th>thread_id</th>\n",
              "      <th>thread_type</th>\n",
              "      <th>full_conversation_text</th>\n",
              "      <th>conversation_length</th>\n",
              "      <th>participants_json</th>\n",
              "      <th>primary_executive</th>\n",
              "      <th>primary_analyst</th>\n",
              "      <th>question_count</th>\n",
              "      <th>follow_up_count</th>\n",
              "      <th>source_segments_json</th>\n",
              "    </tr>\n",
              "  </thead>\n",
              "  <tbody>\n",
              "    <tr>\n",
              "      <th>3</th>\n",
              "      <td>HSBC_Q1_2023</td>\n",
              "      <td>HSBC</td>\n",
              "      <td>Q1_2023</td>\n",
              "      <td>transcript</td>\n",
              "      <td>thread_qa_001</td>\n",
              "      <td>qa_exchange</td>\n",
              "      <td>Good morning, gentlemen. Congrats on a good se...</td>\n",
              "      <td>1034</td>\n",
              "      <td>[{\"name\": \"Joseph Dickerson\", \"title\": \"Analys...</td>\n",
              "      <td>Georges Elhedery</td>\n",
              "      <td>Joseph Dickerson</td>\n",
              "      <td>1</td>\n",
              "      <td>0</td>\n",
              "      <td>[\"tr_seg_004\", \"tr_seg_005\"]</td>\n",
              "    </tr>\n",
              "    <tr>\n",
              "      <th>4</th>\n",
              "      <td>HSBC_Q1_2023</td>\n",
              "      <td>HSBC</td>\n",
              "      <td>Q1_2023</td>\n",
              "      <td>transcript</td>\n",
              "      <td>thread_qa_002</td>\n",
              "      <td>qa_exchange</td>\n",
              "      <td>Good morning, gents. Thanks very much for taki...</td>\n",
              "      <td>4095</td>\n",
              "      <td>[{\"name\": \"Raul Sinha\", \"title\": \"Analyst\", \"r...</td>\n",
              "      <td>Georges Elhedery</td>\n",
              "      <td>Raul Sinha</td>\n",
              "      <td>1</td>\n",
              "      <td>1</td>\n",
              "      <td>[\"tr_seg_006\", \"tr_seg_007\", \"tr_seg_008\"]</td>\n",
              "    </tr>\n",
              "    <tr>\n",
              "      <th>5</th>\n",
              "      <td>HSBC_Q1_2023</td>\n",
              "      <td>HSBC</td>\n",
              "      <td>Q1_2023</td>\n",
              "      <td>transcript</td>\n",
              "      <td>thread_qa_003</td>\n",
              "      <td>qa_exchange</td>\n",
              "      <td>Good morning. Thanks for taking the questions....</td>\n",
              "      <td>3339</td>\n",
              "      <td>[{\"name\": \"Manus Costello\", \"title\": \"Analyst\"...</td>\n",
              "      <td>Noel Quinn</td>\n",
              "      <td>Manus Costello</td>\n",
              "      <td>1</td>\n",
              "      <td>1</td>\n",
              "      <td>[\"tr_seg_009\", \"tr_seg_010\", \"tr_seg_011\"]</td>\n",
              "    </tr>\n",
              "    <tr>\n",
              "      <th>6</th>\n",
              "      <td>HSBC_Q1_2023</td>\n",
              "      <td>HSBC</td>\n",
              "      <td>Q1_2023</td>\n",
              "      <td>transcript</td>\n",
              "      <td>thread_qa_004</td>\n",
              "      <td>qa_exchange</td>\n",
              "      <td>Good morning everyone. Thanks for taking the q...</td>\n",
              "      <td>1545</td>\n",
              "      <td>[{\"name\": \"Omar Keenan\", \"title\": \"Analyst\", \"...</td>\n",
              "      <td>Georges Elhedery</td>\n",
              "      <td>Omar Keenan</td>\n",
              "      <td>1</td>\n",
              "      <td>0</td>\n",
              "      <td>[\"tr_seg_012\", \"tr_seg_013\"]</td>\n",
              "    </tr>\n",
              "    <tr>\n",
              "      <th>7</th>\n",
              "      <td>HSBC_Q1_2023</td>\n",
              "      <td>HSBC</td>\n",
              "      <td>Q1_2023</td>\n",
              "      <td>transcript</td>\n",
              "      <td>thread_qa_005</td>\n",
              "      <td>qa_exchange</td>\n",
              "      <td>I've got two questions. The first one is obvio...</td>\n",
              "      <td>3904</td>\n",
              "      <td>[{\"name\": \"Perlie Mong\", \"title\": \"Analyst\", \"...</td>\n",
              "      <td>Noel Quinn</td>\n",
              "      <td>Perlie Mong</td>\n",
              "      <td>1</td>\n",
              "      <td>0</td>\n",
              "      <td>[\"tr_seg_014\", \"tr_seg_015\", \"tr_seg_016\", \"tr...</td>\n",
              "    </tr>\n",
              "  </tbody>\n",
              "</table>\n",
              "</div>\n",
              "    <div class=\"colab-df-buttons\">\n",
              "\n",
              "  <div class=\"colab-df-container\">\n",
              "    <button class=\"colab-df-convert\" onclick=\"convertToInteractive('df-3fb2653e-b20d-4f59-bad7-54255d577823')\"\n",
              "            title=\"Convert this dataframe to an interactive table.\"\n",
              "            style=\"display:none;\">\n",
              "\n",
              "  <svg xmlns=\"http://www.w3.org/2000/svg\" height=\"24px\" viewBox=\"0 -960 960 960\">\n",
              "    <path d=\"M120-120v-720h720v720H120Zm60-500h600v-160H180v160Zm220 220h160v-160H400v160Zm0 220h160v-160H400v160ZM180-400h160v-160H180v160Zm440 0h160v-160H620v160ZM180-180h160v-160H180v160Zm440 0h160v-160H620v160Z\"/>\n",
              "  </svg>\n",
              "    </button>\n",
              "\n",
              "  <style>\n",
              "    .colab-df-container {\n",
              "      display:flex;\n",
              "      gap: 12px;\n",
              "    }\n",
              "\n",
              "    .colab-df-convert {\n",
              "      background-color: #E8F0FE;\n",
              "      border: none;\n",
              "      border-radius: 50%;\n",
              "      cursor: pointer;\n",
              "      display: none;\n",
              "      fill: #1967D2;\n",
              "      height: 32px;\n",
              "      padding: 0 0 0 0;\n",
              "      width: 32px;\n",
              "    }\n",
              "\n",
              "    .colab-df-convert:hover {\n",
              "      background-color: #E2EBFA;\n",
              "      box-shadow: 0px 1px 2px rgba(60, 64, 67, 0.3), 0px 1px 3px 1px rgba(60, 64, 67, 0.15);\n",
              "      fill: #174EA6;\n",
              "    }\n",
              "\n",
              "    .colab-df-buttons div {\n",
              "      margin-bottom: 4px;\n",
              "    }\n",
              "\n",
              "    [theme=dark] .colab-df-convert {\n",
              "      background-color: #3B4455;\n",
              "      fill: #D2E3FC;\n",
              "    }\n",
              "\n",
              "    [theme=dark] .colab-df-convert:hover {\n",
              "      background-color: #434B5C;\n",
              "      box-shadow: 0px 1px 3px 1px rgba(0, 0, 0, 0.15);\n",
              "      filter: drop-shadow(0px 1px 2px rgba(0, 0, 0, 0.3));\n",
              "      fill: #FFFFFF;\n",
              "    }\n",
              "  </style>\n",
              "\n",
              "    <script>\n",
              "      const buttonEl =\n",
              "        document.querySelector('#df-3fb2653e-b20d-4f59-bad7-54255d577823 button.colab-df-convert');\n",
              "      buttonEl.style.display =\n",
              "        google.colab.kernel.accessAllowed ? 'block' : 'none';\n",
              "\n",
              "      async function convertToInteractive(key) {\n",
              "        const element = document.querySelector('#df-3fb2653e-b20d-4f59-bad7-54255d577823');\n",
              "        const dataTable =\n",
              "          await google.colab.kernel.invokeFunction('convertToInteractive',\n",
              "                                                    [key], {});\n",
              "        if (!dataTable) return;\n",
              "\n",
              "        const docLinkHtml = 'Like what you see? Visit the ' +\n",
              "          '<a target=\"_blank\" href=https://colab.research.google.com/notebooks/data_table.ipynb>data table notebook</a>'\n",
              "          + ' to learn more about interactive tables.';\n",
              "        element.innerHTML = '';\n",
              "        dataTable['output_type'] = 'display_data';\n",
              "        await google.colab.output.renderOutput(dataTable, element);\n",
              "        const docLink = document.createElement('div');\n",
              "        docLink.innerHTML = docLinkHtml;\n",
              "        element.appendChild(docLink);\n",
              "      }\n",
              "    </script>\n",
              "  </div>\n",
              "\n",
              "\n",
              "    <div id=\"df-c01d67f7-670a-423d-934e-9c423c49c2dd\">\n",
              "      <button class=\"colab-df-quickchart\" onclick=\"quickchart('df-c01d67f7-670a-423d-934e-9c423c49c2dd')\"\n",
              "                title=\"Suggest charts\"\n",
              "                style=\"display:none;\">\n",
              "\n",
              "<svg xmlns=\"http://www.w3.org/2000/svg\" height=\"24px\"viewBox=\"0 0 24 24\"\n",
              "     width=\"24px\">\n",
              "    <g>\n",
              "        <path d=\"M19 3H5c-1.1 0-2 .9-2 2v14c0 1.1.9 2 2 2h14c1.1 0 2-.9 2-2V5c0-1.1-.9-2-2-2zM9 17H7v-7h2v7zm4 0h-2V7h2v10zm4 0h-2v-4h2v4z\"/>\n",
              "    </g>\n",
              "</svg>\n",
              "      </button>\n",
              "\n",
              "<style>\n",
              "  .colab-df-quickchart {\n",
              "      --bg-color: #E8F0FE;\n",
              "      --fill-color: #1967D2;\n",
              "      --hover-bg-color: #E2EBFA;\n",
              "      --hover-fill-color: #174EA6;\n",
              "      --disabled-fill-color: #AAA;\n",
              "      --disabled-bg-color: #DDD;\n",
              "  }\n",
              "\n",
              "  [theme=dark] .colab-df-quickchart {\n",
              "      --bg-color: #3B4455;\n",
              "      --fill-color: #D2E3FC;\n",
              "      --hover-bg-color: #434B5C;\n",
              "      --hover-fill-color: #FFFFFF;\n",
              "      --disabled-bg-color: #3B4455;\n",
              "      --disabled-fill-color: #666;\n",
              "  }\n",
              "\n",
              "  .colab-df-quickchart {\n",
              "    background-color: var(--bg-color);\n",
              "    border: none;\n",
              "    border-radius: 50%;\n",
              "    cursor: pointer;\n",
              "    display: none;\n",
              "    fill: var(--fill-color);\n",
              "    height: 32px;\n",
              "    padding: 0;\n",
              "    width: 32px;\n",
              "  }\n",
              "\n",
              "  .colab-df-quickchart:hover {\n",
              "    background-color: var(--hover-bg-color);\n",
              "    box-shadow: 0 1px 2px rgba(60, 64, 67, 0.3), 0 1px 3px 1px rgba(60, 64, 67, 0.15);\n",
              "    fill: var(--button-hover-fill-color);\n",
              "  }\n",
              "\n",
              "  .colab-df-quickchart-complete:disabled,\n",
              "  .colab-df-quickchart-complete:disabled:hover {\n",
              "    background-color: var(--disabled-bg-color);\n",
              "    fill: var(--disabled-fill-color);\n",
              "    box-shadow: none;\n",
              "  }\n",
              "\n",
              "  .colab-df-spinner {\n",
              "    border: 2px solid var(--fill-color);\n",
              "    border-color: transparent;\n",
              "    border-bottom-color: var(--fill-color);\n",
              "    animation:\n",
              "      spin 1s steps(1) infinite;\n",
              "  }\n",
              "\n",
              "  @keyframes spin {\n",
              "    0% {\n",
              "      border-color: transparent;\n",
              "      border-bottom-color: var(--fill-color);\n",
              "      border-left-color: var(--fill-color);\n",
              "    }\n",
              "    20% {\n",
              "      border-color: transparent;\n",
              "      border-left-color: var(--fill-color);\n",
              "      border-top-color: var(--fill-color);\n",
              "    }\n",
              "    30% {\n",
              "      border-color: transparent;\n",
              "      border-left-color: var(--fill-color);\n",
              "      border-top-color: var(--fill-color);\n",
              "      border-right-color: var(--fill-color);\n",
              "    }\n",
              "    40% {\n",
              "      border-color: transparent;\n",
              "      border-right-color: var(--fill-color);\n",
              "      border-top-color: var(--fill-color);\n",
              "    }\n",
              "    60% {\n",
              "      border-color: transparent;\n",
              "      border-right-color: var(--fill-color);\n",
              "    }\n",
              "    80% {\n",
              "      border-color: transparent;\n",
              "      border-right-color: var(--fill-color);\n",
              "      border-bottom-color: var(--fill-color);\n",
              "    }\n",
              "    90% {\n",
              "      border-color: transparent;\n",
              "      border-bottom-color: var(--fill-color);\n",
              "    }\n",
              "  }\n",
              "</style>\n",
              "\n",
              "      <script>\n",
              "        async function quickchart(key) {\n",
              "          const quickchartButtonEl =\n",
              "            document.querySelector('#' + key + ' button');\n",
              "          quickchartButtonEl.disabled = true;  // To prevent multiple clicks.\n",
              "          quickchartButtonEl.classList.add('colab-df-spinner');\n",
              "          try {\n",
              "            const charts = await google.colab.kernel.invokeFunction(\n",
              "                'suggestCharts', [key], {});\n",
              "          } catch (error) {\n",
              "            console.error('Error during call to suggestCharts:', error);\n",
              "          }\n",
              "          quickchartButtonEl.classList.remove('colab-df-spinner');\n",
              "          quickchartButtonEl.classList.add('colab-df-quickchart-complete');\n",
              "        }\n",
              "        (() => {\n",
              "          let quickchartButtonEl =\n",
              "            document.querySelector('#df-c01d67f7-670a-423d-934e-9c423c49c2dd button');\n",
              "          quickchartButtonEl.style.display =\n",
              "            google.colab.kernel.accessAllowed ? 'block' : 'none';\n",
              "        })();\n",
              "      </script>\n",
              "    </div>\n",
              "\n",
              "    </div>\n",
              "  </div>\n"
            ],
            "text/plain": [
              "    earnings_id bank_id quarter_year document_type      thread_id  \\\n",
              "3  HSBC_Q1_2023    HSBC      Q1_2023    transcript  thread_qa_001   \n",
              "4  HSBC_Q1_2023    HSBC      Q1_2023    transcript  thread_qa_002   \n",
              "5  HSBC_Q1_2023    HSBC      Q1_2023    transcript  thread_qa_003   \n",
              "6  HSBC_Q1_2023    HSBC      Q1_2023    transcript  thread_qa_004   \n",
              "7  HSBC_Q1_2023    HSBC      Q1_2023    transcript  thread_qa_005   \n",
              "\n",
              "   thread_type                             full_conversation_text  \\\n",
              "3  qa_exchange  Good morning, gentlemen. Congrats on a good se...   \n",
              "4  qa_exchange  Good morning, gents. Thanks very much for taki...   \n",
              "5  qa_exchange  Good morning. Thanks for taking the questions....   \n",
              "6  qa_exchange  Good morning everyone. Thanks for taking the q...   \n",
              "7  qa_exchange  I've got two questions. The first one is obvio...   \n",
              "\n",
              "   conversation_length                                  participants_json  \\\n",
              "3                 1034  [{\"name\": \"Joseph Dickerson\", \"title\": \"Analys...   \n",
              "4                 4095  [{\"name\": \"Raul Sinha\", \"title\": \"Analyst\", \"r...   \n",
              "5                 3339  [{\"name\": \"Manus Costello\", \"title\": \"Analyst\"...   \n",
              "6                 1545  [{\"name\": \"Omar Keenan\", \"title\": \"Analyst\", \"...   \n",
              "7                 3904  [{\"name\": \"Perlie Mong\", \"title\": \"Analyst\", \"...   \n",
              "\n",
              "  primary_executive   primary_analyst  question_count  follow_up_count  \\\n",
              "3  Georges Elhedery  Joseph Dickerson               1                0   \n",
              "4  Georges Elhedery        Raul Sinha               1                1   \n",
              "5        Noel Quinn    Manus Costello               1                1   \n",
              "6  Georges Elhedery       Omar Keenan               1                0   \n",
              "7        Noel Quinn       Perlie Mong               1                0   \n",
              "\n",
              "                                source_segments_json  \n",
              "3                       [\"tr_seg_004\", \"tr_seg_005\"]  \n",
              "4         [\"tr_seg_006\", \"tr_seg_007\", \"tr_seg_008\"]  \n",
              "5         [\"tr_seg_009\", \"tr_seg_010\", \"tr_seg_011\"]  \n",
              "6                       [\"tr_seg_012\", \"tr_seg_013\"]  \n",
              "7  [\"tr_seg_014\", \"tr_seg_015\", \"tr_seg_016\", \"tr...  "
            ]
          },
          "execution_count": 6,
          "metadata": {},
          "output_type": "execute_result"
        }
      ],
      "source": [
        "input_data.head()"
      ]
    },
    {
      "cell_type": "markdown",
      "metadata": {
        "id": "aVvD146sZWUk"
      },
      "source": [
        "# PROMPTS FROM ORIGINAL CODE"
      ]
    },
    {
      "cell_type": "markdown",
      "metadata": {
        "id": "acmMtmq2u_mg"
      },
      "source": [
        "This class provides regulatory context for analyzing financial threads using Bank of England (PRA) priorities.\n",
        "\n",
        "It does three things:\n",
        "1. Stores 2025 PRA supervisory priorities.\n",
        "2. Classifies each thread (e.g. Q&A, executive statement, factual content) based on metadata or speaker roles.\n",
        "3. Returns a structured prompt with relevant regulatory focus and warning signals, tailored to the thread type.\n",
        "\n",
        "It enables AI models to analyze transcripts in a way that reflects real-world supervisory concerns.\n"
      ]
    },
    {
      "cell_type": "code",
      "execution_count": 7,
      "metadata": {
        "id": "qMvU5zerZayy"
      },
      "outputs": [],
      "source": [
        "class EnhancedPRADocumentationManager:\n",
        "    \"\"\"Dynamic regulatory context management for thread-based analysis\"\"\"\n",
        "    def __init__(self):\n",
        "        self.pra_priorities_2025 = \"\"\"\n",
        "PRA 2025 SUPERVISORY PRIORITIES:\n",
        "Risk management, governance and controls:\n",
        "- Robust governance, risk management and controls frameworks\n",
        "- Counterparty credit risk (CCR) management focus\n",
        "- Risk culture assessment and senior management accountability\n",
        "Data risk:\n",
        "- Firms need to improve data aggregation for holistic risk management\n",
        "- Accurate and timely regulatory returns submission\n",
        "- Data quality for AI and technological developments\n",
        "Financial resilience:\n",
        "- Assessment of firms' capital and liquidity with stress testing\n",
        "- Funding and liquidity landscape changes including ILTR facility\n",
        "- Capital planning and forward-looking indicators\n",
        "Operational resilience:\n",
        "- Remain within impact tolerances for important business services\n",
        "- Cyber threats and third-party risk management\n",
        "- Legacy infrastructure remediation and resilient IT investments\n",
        "\"\"\"\n",
        "\n",
        "        self.thread_type_contexts = {\n",
        "            \"qa_exchange\": {\n",
        "                \"focus\": \"Conversational dynamics, information asymmetries, deflection patterns\",\n",
        "                \"warning_signals\": [\"evasive answers\", \"sentiment divergence\", \"repeated questioning\"],\n",
        "                \"regulatory_lens\": \"Are there concerning communication dynamics between management and analysts?\"\n",
        "            },\n",
        "            \"executive_statement\": {\n",
        "                \"focus\": \"Strategic messaging, forward guidance accuracy, governance tone\",\n",
        "                \"warning_signals\": [\"inconsistent messaging\", \"defensive language\", \"vague commitments\"],\n",
        "                \"regulatory_lens\": \"Does management demonstrate clear regulatory awareness and transparency?\"\n",
        "            },\n",
        "            \"document_content\": {\n",
        "                \"focus\": \"Factual accuracy, disclosure completeness, regulatory compliance\",\n",
        "                \"warning_signals\": [\"metric inconsistencies\", \"disclosure gaps\", \"compliance concerns\"],\n",
        "                \"regulatory_lens\": \"Are disclosures complete, accurate, and compliant?\"\n",
        "            }\n",
        "        }\n",
        "\n",
        "    def detect_thread_type(self, thread_data: Dict) -> str:\n",
        "        \"\"\"Intelligent thread type detection from thread metadata\"\"\"\n",
        "        thread_type = thread_data.get('thread_type', 'unknown')\n",
        "\n",
        "        # Validate thread type\n",
        "        if thread_type in self.thread_type_contexts:\n",
        "            return thread_type\n",
        "\n",
        "        # Fallback detection logic\n",
        "        doc_type = thread_data.get('document_type', 'unknown')\n",
        "        participants = thread_data.get('participants_json', '[]')\n",
        "\n",
        "        try:\n",
        "            participants_list = json.loads(participants) if participants else []\n",
        "            roles = [p.get('role', '') for p in participants_list]\n",
        "\n",
        "            if 'analyst' in roles and 'executive' in roles:\n",
        "                return \"qa_exchange\"\n",
        "            elif 'executive' in roles and doc_type == 'transcript':\n",
        "                return \"executive_statement\"\n",
        "            else:\n",
        "                return \"document_content\"\n",
        "        except:\n",
        "            return \"document_content\"\n",
        "\n",
        "    def get_targeted_regulatory_context(self, thread_data: Dict, detected_thread_type: str) -> str:\n",
        "        \"\"\"Generate targeted regulatory context for thread analysis\"\"\"\n",
        "        thread_context = self.thread_type_contexts.get(detected_thread_type,\n",
        "                                                      self.thread_type_contexts[\"document_content\"])\n",
        "\n",
        "        return f\"\"\"\n",
        "BANK OF ENGLAND PRA REGULATORY ANALYSIS CONTEXT:\n",
        "{self.pra_priorities_2025}\n",
        "\n",
        "THREAD-SPECIFIC ANALYSIS FOCUS:\n",
        "Analysis Type: {detected_thread_type}\n",
        "Primary Focus: {thread_context['focus']}\n",
        "Key Warning Signals: {thread_context['warning_signals']}\n",
        "Regulatory Lens: {thread_context['regulatory_lens']}\n",
        "\n",
        "CONVERSATIONAL REGULATORY INTELLIGENCE FRAMEWORK:\n",
        "You are analyzing as a Bank of England PRA supervisor focusing on:\n",
        "1. Complete conversational context and dynamics\n",
        "2. Which of the 4 supervisory priority areas this thread relates to most strongly\n",
        "3. Sentiment from REGULATORY COMPLIANCE perspective across the entire conversation\n",
        "4. Communication patterns matching historical enforcement cases\n",
        "5. Q&A dynamics revealing information asymmetries and deflection patterns\n",
        "6. Evidence synthesis across conversation flow\n",
        "7. Single authoritative regulatory assessment for the complete thread\n",
        "\"\"\""
      ]
    },
    {
      "cell_type": "markdown",
      "metadata": {
        "id": "gUkzm5gkvKZh"
      },
      "source": [
        "This function generates a detailed prompt for analyzing Q&A threads between analysts and executives.\n",
        "\n",
        "It uses the EnhancedPRADocumentationManager to:\n",
        "- Provide PRA regulatory context specific to Q&A exchanges\n",
        "- Include metadata like speaker names and number of questions\n",
        "- Instruct the AI to return structured JSON with regulatory insights, sentiment scores, and conversational analysis\n",
        "\n",
        "The prompt is designed for use with large language models and enforces a strict output format for consistent downstream evaluation.\n"
      ]
    },
    {
      "cell_type": "code",
      "execution_count": 8,
      "metadata": {
        "id": "Xk5vxFCLakzy"
      },
      "outputs": [],
      "source": [
        "def qa_prompt(thread_data: Dict):\n",
        "\n",
        "  conversation = thread_data.get('full_conversation_text', '')\n",
        "  primary_executive = thread_data.get('primary_executive', 'Unknown Executive')\n",
        "  primary_analyst = thread_data.get('primary_analyst', 'Unknown Analyst')\n",
        "  question_count = thread_data.get('question_count', 0)\n",
        "\n",
        "  targeted_context = EnhancedPRADocumentationManager().get_targeted_regulatory_context(thread_data, 'qa_exchange')\n",
        "\n",
        "\n",
        "  return f\"\"\"\n",
        "{targeted_context}\n",
        "\n",
        "CONVERSATIONAL Q&A THREAD REGULATORY ANALYSIS\n",
        "\n",
        "COMPLETE CONVERSATION THREAD:\n",
        "Participants: {primary_analyst} (Analyst) → {primary_executive} (Executive)\n",
        "Questions in thread: {question_count}\n",
        "Thread Type: Q&A Exchange\n",
        "\n",
        "CRITICAL ANALYSIS FOCUS:\n",
        "1. Information asymmetry: Question specificity vs answer directness\n",
        "2. Deflection progression: How evasion patterns evolve across follow-ups\n",
        "3. Management defensiveness: Defensive language escalation patterns\n",
        "4. Regulatory intelligence: BoE priority concerns revealed through complete exchange\n",
        "5. Conversational dynamics: Power dynamics, interruptions, topic control\n",
        "6. Assess historical precedent situations and enforcement. Always do this looking backwards from quarter/year being analysed : Evidence synthesis\n",
        "\n",
        "ENHANCED Q&A ANALYSIS REQUIREMENTS:\n",
        "- Analyze complete conversation flow, not individual statements\n",
        "- Detect question deflection and regulatory evasion patterns\n",
        "- Assess management credibility through response quality\n",
        "- Identify information asymmetries between management knowledge and market concerns\n",
        "- Map conversation to specific BoE supervisory priorities\n",
        "\n",
        "RETURN ONLY VALID JSON in this exact format:\n",
        "{{\n",
        "  \"boe_priority_analysis\": {{\n",
        "    \"governance_controls\": {{\n",
        "      \"sentiment\": 0.2,\n",
        "      \"confidence\": 0.9,\n",
        "      \"relevance\": 0.8,\n",
        "      \"key_topics\": [\"board oversight\", \"risk culture\"],\n",
        "      \"pra_policy_refs\": [\"SS5/21\"],\n",
        "      \"warning_signals\": [\"weak controls language\"]\n",
        "    }},\n",
        "    \"data_risk\": {{\n",
        "      \"sentiment\": 0.0,\n",
        "      \"confidence\": 0.7,\n",
        "      \"relevance\": 0.3,\n",
        "      \"key_topics\": [\"data quality\"],\n",
        "      \"pra_policy_refs\": [\"data governance\"],\n",
        "      \"warning_signals\": []\n",
        "    }},\n",
        "    \"financial_resilience\": {{\n",
        "      \"sentiment\": 0.1,\n",
        "      \"confidence\": 0.8,\n",
        "      \"relevance\": 0.9,\n",
        "      \"key_topics\": [\"capital planning\"],\n",
        "      \"pra_policy_refs\": [\"Basel 3.1\"],\n",
        "      \"warning_signals\": [\"capital concerns\"]\n",
        "    }},\n",
        "    \"operational_resilience\": {{\n",
        "      \"sentiment\": -0.2,\n",
        "      \"confidence\": 0.9,\n",
        "      \"relevance\": 0.6,\n",
        "      \"key_topics\": [\"cyber risk\"],\n",
        "      \"pra_policy_refs\": [\"operational resilience\"],\n",
        "      \"warning_signals\": [\"operational incidents\"]\n",
        "    }}\n",
        "  }},\n",
        "  \"qa_dynamics_analysis\": {{\n",
        "    \"qa_sentiment_divergence\": 0.6,\n",
        "    \"qa_deflection_score\": 0.4,\n",
        "    \"qa_regulatory_tension\": 0.5,\n",
        "    \"qa_analyst_persistence\": 0.7,\n",
        "    \"qa_management_defensiveness\": 0.3,\n",
        "    \"qa_information_asymmetry\": 0.8\n",
        "  }},\n",
        "  \"conversational_intelligence\": {{\n",
        "    \"conversation_quality_assessment\": \"concerning\",\n",
        "    \"management_credibility_score\": 0.4,\n",
        "    \"information_flow_analysis\": \"restricted\",\n",
        "    \"deflection_progression_score\": 0.6,\n",
        "    \"analyst_persistence_intensity\": 0.8\n",
        "  }},\n",
        "  \"unified_regulatory_assessment\": {{\n",
        "    \"primary_regulatory_concern\": \"financial_resilience\",\n",
        "    \"concern_confidence_score\": 0.85,\n",
        "    \"regulatory_urgency_level\": \"elevated\",\n",
        "    \"enforcement_probability\": 0.3\n",
        "  }},\n",
        "  \"evidence_synthesis\": {{\n",
        "    \"thread_evidence_strength\": 0.7,\n",
        "    \"conversation_evidence_strength\": 0.8,\n",
        "    \"historical_pattern_match\": 0.6,\n",
        "    \"cross_validation_score\": 0.8\n",
        "  }},\n",
        "  \"regulatory_intelligence\": {{\n",
        "    \"overall_sentiment\": 0.1,\n",
        "    \"regulatory_concern_level\": \"medium\",\n",
        "    \"enforcement_risk_score\": 0.3,\n",
        "    \"market_vs_regulatory_sentiment\": 0.4,\n",
        "    \"primary_boe_priority\": \"financial_resilience\",\n",
        "    \"secondary_boe_priority\": \"operational_resilience\",\n",
        "    \"regulatory_topic_category\": \"capital\"\n",
        "  }},\n",
        "  \"linguistic_analysis\": {{\n",
        "    \"uncertainty_score\": 0.6,\n",
        "    \"future_focus_score\": 0.5,\n",
        "    \"defensive_language_score\": 0.4,\n",
        "    \"confidence_language_score\": 0.4,\n",
        "    \"hedge_words_count\": 12,\n",
        "    \"forward_statements_count\": 2,\n",
        "    \"regulatory_keywords_count\": 8\n",
        "  }},\n",
        "  \"enforcement_analysis\": {{\n",
        "    \"enforcement_risk_indicators\": [\"deflection patterns\", \"information asymmetry\"],\n",
        "    \"historical_pattern_matches\": [\"Credit Suisse Q2 2021\"],\n",
        "    \"pra_workflow_recommendation\": \"Enhanced Q&A monitoring in next PSM\",\n",
        "    \"regulatory_timeline_urgency\": \"within_90_days\"\n",
        "  }},\n",
        "  \"analysis_metadata\": {{\n",
        "    \"thread_type\": \"qa_exchange\",\n",
        "    \"analysis_confidence_overall\": 0.85,\n",
        "    \"validation_flags\": [\"complete_conversation_analysis\"],\n",
        "    \"token_usage\": 450\n",
        "  }}\n",
        "}}\n",
        "\n",
        "CONVERSATION TO ANALYZE:\n",
        "{conversation}\n",
        "\n",
        "Return ONLY the JSON object above.\n",
        "\"\"\""
      ]
    },
    {
      "cell_type": "markdown",
      "metadata": {
        "id": "mCrknALBcU3I"
      },
      "source": [
        "# OUTPUT REORGANIZATION"
      ]
    },
    {
      "cell_type": "markdown",
      "metadata": {
        "id": "S7FTOguRvYVR"
      },
      "source": [
        "A list of all the output variables is printed below"
      ]
    },
    {
      "cell_type": "code",
      "execution_count": 9,
      "metadata": {
        "colab": {
          "base_uri": "https://localhost:8080/"
        },
        "id": "fKgWXeBdcVak",
        "outputId": "c80d570c-9e60-482a-9ff4-55ee49f30b25"
      },
      "outputs": [
        {
          "data": {
            "text/plain": [
              "['analysis_priority',\n",
              " 'governance_sentiment',\n",
              " 'governance_confidence',\n",
              " 'governance_relevance',\n",
              " 'governance_topics_json',\n",
              " 'governance_pra_refs_json',\n",
              " 'data_risk_sentiment',\n",
              " 'data_risk_confidence',\n",
              " 'data_risk_relevance',\n",
              " 'data_risk_topics_json',\n",
              " 'data_risk_pra_refs_json',\n",
              " 'financial_resilience_sentiment',\n",
              " 'financial_resilience_confidence',\n",
              " 'financial_resilience_relevance',\n",
              " 'financial_resilience_topics_json',\n",
              " 'financial_resilience_pra_refs_json',\n",
              " 'operational_resilience_sentiment',\n",
              " 'operational_resilience_confidence',\n",
              " 'operational_resilience_relevance',\n",
              " 'operational_resilience_topics_json',\n",
              " 'operational_resilience_pra_refs_json',\n",
              " 'overall_sentiment',\n",
              " 'regulatory_concern_level',\n",
              " 'enforcement_risk_score',\n",
              " 'market_vs_regulatory_sentiment',\n",
              " 'uncertainty_score',\n",
              " 'future_focus_score',\n",
              " 'defensive_language_score',\n",
              " 'confidence_language_score',\n",
              " 'hedge_words_count',\n",
              " 'forward_statements_count',\n",
              " 'regulatory_keywords_count',\n",
              " 'primary_boe_priority',\n",
              " 'secondary_boe_priority',\n",
              " 'regulatory_topic_category',\n",
              " 'enforcement_risk_indicators_json',\n",
              " 'historical_pattern_matches_json',\n",
              " 'peer_comparison_flags_json',\n",
              " 'qa_sentiment_divergence',\n",
              " 'qa_deflection_score',\n",
              " 'qa_regulatory_tension',\n",
              " 'qa_analyst_persistence',\n",
              " 'qa_management_defensiveness',\n",
              " 'qa_information_asymmetry',\n",
              " 'conversation_quality_assessment',\n",
              " 'management_credibility_score',\n",
              " 'information_flow_analysis',\n",
              " 'deflection_progression_score',\n",
              " 'analyst_persistence_intensity',\n",
              " 'primary_regulatory_concern',\n",
              " 'concern_confidence_score',\n",
              " 'regulatory_urgency_level',\n",
              " 'enforcement_probability',\n",
              " 'thread_evidence_strength',\n",
              " 'conversation_evidence_strength',\n",
              " 'historical_pattern_match',\n",
              " 'cross_validation_score',\n",
              " 'processing_timestamp',\n",
              " 'claude_model_version',\n",
              " 'analysis_confidence_overall',\n",
              " 'validation_flags_json',\n",
              " 'token_usage',\n",
              " 'regulatory_intelligence_summary',\n",
              " 'agent_version']"
            ]
          },
          "execution_count": 9,
          "metadata": {},
          "output_type": "execute_result"
        }
      ],
      "source": [
        "output_data.columns.to_list()"
      ]
    },
    {
      "cell_type": "markdown",
      "metadata": {
        "id": "VEAq-ylts-Om"
      },
      "source": [
        "Non-financial metrics are discarded"
      ]
    },
    {
      "cell_type": "code",
      "execution_count": 10,
      "metadata": {
        "colab": {
          "base_uri": "https://localhost:8080/"
        },
        "id": "oa0SZXlLgwI9",
        "outputId": "4cf74aad-2982-4f8b-d578-174cdebc0c70"
      },
      "outputs": [
        {
          "name": "stdout",
          "output_type": "stream",
          "text": [
            "- analysis_priority\n",
            "- governance_sentiment\n",
            "- governance_confidence\n",
            "- governance_relevance\n",
            "- governance_topics_json\n",
            "- governance_pra_refs_json\n",
            "- data_risk_sentiment\n",
            "- data_risk_confidence\n",
            "- data_risk_relevance\n",
            "- data_risk_topics_json\n",
            "- data_risk_pra_refs_json\n",
            "- financial_resilience_sentiment\n",
            "- financial_resilience_confidence\n",
            "- financial_resilience_relevance\n",
            "- financial_resilience_topics_json\n",
            "- financial_resilience_pra_refs_json\n",
            "- operational_resilience_sentiment\n",
            "- operational_resilience_confidence\n",
            "- operational_resilience_relevance\n",
            "- operational_resilience_topics_json\n",
            "- operational_resilience_pra_refs_json\n",
            "- overall_sentiment\n",
            "- regulatory_concern_level\n",
            "- enforcement_risk_score\n",
            "- market_vs_regulatory_sentiment\n",
            "- uncertainty_score\n",
            "- future_focus_score\n",
            "- defensive_language_score\n",
            "- confidence_language_score\n",
            "- hedge_words_count\n",
            "- forward_statements_count\n",
            "- regulatory_keywords_count\n",
            "- primary_boe_priority\n",
            "- secondary_boe_priority\n",
            "- regulatory_topic_category\n",
            "- enforcement_risk_indicators_json\n",
            "- historical_pattern_matches_json\n",
            "- peer_comparison_flags_json\n",
            "- qa_sentiment_divergence\n",
            "- qa_deflection_score\n",
            "- qa_regulatory_tension\n",
            "- qa_analyst_persistence\n",
            "- qa_management_defensiveness\n",
            "- qa_information_asymmetry\n",
            "- conversation_quality_assessment\n",
            "- management_credibility_score\n",
            "- information_flow_analysis\n",
            "- deflection_progression_score\n",
            "- analyst_persistence_intensity\n",
            "- primary_regulatory_concern\n",
            "- concern_confidence_score\n",
            "- regulatory_urgency_level\n",
            "- enforcement_probability\n",
            "- thread_evidence_strength\n",
            "- conversation_evidence_strength\n",
            "- historical_pattern_match\n",
            "- cross_validation_score\n",
            "- analysis_confidence_overall\n",
            "- regulatory_intelligence_summary\n",
            "Number of metrics to be analysed is 59\n"
          ]
        }
      ],
      "source": [
        "metrics_tobeanalysed = [metric for metric in output_data.columns.to_list() if metric not in ['token_usage','agent_version','claude_model_version','processing_timestamp','validation_flags_json']]\n",
        "metrics_list = \"\\n\".join(f\"- {line}\" for line in metrics_tobeanalysed)\n",
        "print(metrics_list)\n",
        "print('Number of metrics to be analysed is', len(metrics_tobeanalysed))"
      ]
    },
    {
      "cell_type": "markdown",
      "metadata": {
        "id": "cyOxBWm1cLE0"
      },
      "source": [
        "# META-PROMPT CREATION"
      ]
    },
    {
      "cell_type": "markdown",
      "metadata": {
        "id": "Swo1TDpYvzus"
      },
      "source": [
        "This function takes a single row from a dataframe (as a Python dictionary) and formats it into a structured JSON output that matches the schema expected from the LLM agent.\n",
        "\n",
        "**Purpose:**\n",
        "\n",
        "It is used to **reconstruct or simulate** the output JSON structure that would be generated by Agent 3. This is helpful when you:\n",
        "- Load data from a `.csv` file\n",
        "- Want to reformat rows into the original nested structure for evaluation or re-use\n",
        "\n",
        "**Key Details:**\n",
        "\n",
        "- Each top-level section (e.g. `boe_priority_analysis`, `qa_dynamics_analysis`, etc.) corresponds to a part of the LLM output schema.\n",
        "- The function extracts values from the row using `.get()`, with default fallbacks (e.g., 0.0 for floats or empty lists).\n",
        "- Some fields (like topics, policy refs, indicators) are stored as JSON strings in the CSV and are decoded with `json.loads()`.\n",
        "- The result is returned as a formatted JSON string using `json.dumps(..., indent=2)`.\n",
        "\n",
        "This function makes it easy to reconstruct complete analysis outputs from tabular evaluation data, enabling visual inspection, re-analysis, or prompt testing.\n"
      ]
    },
    {
      "cell_type": "code",
      "execution_count": 11,
      "metadata": {
        "id": "ViGl1YXCf3JL"
      },
      "outputs": [],
      "source": [
        "import json\n",
        "\n",
        "def format_output_json_from_row(row_dict: dict) -> str:\n",
        "    output = {\n",
        "        \"boe_priority_analysis\": {\n",
        "            \"governance_controls\": {\n",
        "                \"sentiment\": row_dict.get(\"governance_sentiment\", 0.0),\n",
        "                \"confidence\": row_dict.get(\"governance_confidence\", 0.0),\n",
        "                \"relevance\": row_dict.get(\"governance_relevance\", 0.0),\n",
        "                \"key_topics\": json.loads(row_dict.get(\"governance_topics_json\", \"[]\")),\n",
        "                \"pra_policy_refs\": json.loads(row_dict.get(\"governance_pra_refs_json\", \"[]\")),\n",
        "                \"warning_signals\": []\n",
        "            },\n",
        "            \"data_risk\": {\n",
        "                \"sentiment\": row_dict.get(\"data_risk_sentiment\", 0.0),\n",
        "                \"confidence\": row_dict.get(\"data_risk_confidence\", 0.0),\n",
        "                \"relevance\": row_dict.get(\"data_risk_relevance\", 0.0),\n",
        "                \"key_topics\": json.loads(row_dict.get(\"data_risk_topics_json\", \"[]\")),\n",
        "                \"pra_policy_refs\": json.loads(row_dict.get(\"data_risk_pra_refs_json\", \"[]\")),\n",
        "                \"warning_signals\": []\n",
        "            },\n",
        "            \"financial_resilience\": {\n",
        "                \"sentiment\": row_dict.get(\"financial_resilience_sentiment\", 0.0),\n",
        "                \"confidence\": row_dict.get(\"financial_resilience_confidence\", 0.0),\n",
        "                \"relevance\": row_dict.get(\"financial_resilience_relevance\", 0.0),\n",
        "                \"key_topics\": json.loads(row_dict.get(\"financial_resilience_topics_json\", \"[]\")),\n",
        "                \"pra_policy_refs\": json.loads(row_dict.get(\"financial_resilience_pra_refs_json\", \"[]\")),\n",
        "                \"warning_signals\": []\n",
        "            },\n",
        "            \"operational_resilience\": {\n",
        "                \"sentiment\": row_dict.get(\"operational_resilience_sentiment\", 0.0),\n",
        "                \"confidence\": row_dict.get(\"operational_resilience_confidence\", 0.0),\n",
        "                \"relevance\": row_dict.get(\"operational_resilience_relevance\", 0.0),\n",
        "                \"key_topics\": json.loads(row_dict.get(\"operational_resilience_topics_json\", \"[]\")),\n",
        "                \"pra_policy_refs\": json.loads(row_dict.get(\"operational_resilience_pra_refs_json\", \"[]\")),\n",
        "                \"warning_signals\": []\n",
        "            }\n",
        "        },\n",
        "        \"qa_dynamics_analysis\": {\n",
        "            \"qa_sentiment_divergence\": row_dict.get(\"qa_sentiment_divergence\", 0.0),\n",
        "            \"qa_deflection_score\": row_dict.get(\"qa_deflection_score\", 0.0),\n",
        "            \"qa_regulatory_tension\": row_dict.get(\"qa_regulatory_tension\", 0.0),\n",
        "            \"qa_analyst_persistence\": row_dict.get(\"qa_analyst_persistence\", 0.0),\n",
        "            \"qa_management_defensiveness\": row_dict.get(\"qa_management_defensiveness\", 0.0),\n",
        "            \"qa_information_asymmetry\": row_dict.get(\"qa_information_asymmetry\", 0.0)\n",
        "        },\n",
        "        \"conversational_intelligence\": {\n",
        "            \"conversation_quality_assessment\": row_dict.get(\"conversation_quality_assessment\", \"\"),\n",
        "            \"management_credibility_score\": row_dict.get(\"management_credibility_score\", 0.0),\n",
        "            \"information_flow_analysis\": row_dict.get(\"information_flow_analysis\", \"\"),\n",
        "            \"deflection_progression_score\": row_dict.get(\"deflection_progression_score\", 0.0),\n",
        "            \"analyst_persistence_intensity\": row_dict.get(\"analyst_persistence_intensity\", 0.0)\n",
        "        },\n",
        "        \"unified_regulatory_assessment\": {\n",
        "            \"primary_regulatory_concern\": row_dict.get(\"primary_regulatory_concern\", \"\"),\n",
        "            \"concern_confidence_score\": row_dict.get(\"concern_confidence_score\", 0.0),\n",
        "            \"regulatory_urgency_level\": row_dict.get(\"regulatory_urgency_level\", \"routine\"),\n",
        "            \"enforcement_probability\": row_dict.get(\"enforcement_probability\", 0.0)\n",
        "        },\n",
        "        \"evidence_synthesis\": {\n",
        "            \"thread_evidence_strength\": row_dict.get(\"thread_evidence_strength\", 0.0),\n",
        "            \"conversation_evidence_strength\": row_dict.get(\"conversation_evidence_strength\", 0.0),\n",
        "            \"historical_pattern_match\": row_dict.get(\"historical_pattern_match\", 0.0),\n",
        "            \"cross_validation_score\": row_dict.get(\"cross_validation_score\", 0.0)\n",
        "        },\n",
        "        \"regulatory_intelligence\": {\n",
        "            \"overall_sentiment\": row_dict.get(\"overall_sentiment\", 0.0),\n",
        "            \"regulatory_concern_level\": row_dict.get(\"regulatory_concern_level\", \"low\"),\n",
        "            \"enforcement_risk_score\": row_dict.get(\"enforcement_risk_score\", 0.0),\n",
        "            \"market_vs_regulatory_sentiment\": row_dict.get(\"market_vs_regulatory_sentiment\", 0.0),\n",
        "            \"primary_boe_priority\": row_dict.get(\"primary_boe_priority\", \"\"),\n",
        "            \"secondary_boe_priority\": row_dict.get(\"secondary_boe_priority\", \"\"),\n",
        "            \"regulatory_topic_category\": row_dict.get(\"regulatory_topic_category\", \"\")\n",
        "        },\n",
        "        \"linguistic_analysis\": {\n",
        "            \"uncertainty_score\": row_dict.get(\"uncertainty_score\", 0.0),\n",
        "            \"future_focus_score\": row_dict.get(\"future_focus_score\", 0.0),\n",
        "            \"defensive_language_score\": row_dict.get(\"defensive_language_score\", 0.0),\n",
        "            \"confidence_language_score\": row_dict.get(\"confidence_language_score\", 0.0),\n",
        "            \"hedge_words_count\": row_dict.get(\"hedge_words_count\", 0),\n",
        "            \"forward_statements_count\": row_dict.get(\"forward_statements_count\", 0),\n",
        "            \"regulatory_keywords_count\": row_dict.get(\"regulatory_keywords_count\", 0)\n",
        "        },\n",
        "        \"enforcement_analysis\": {\n",
        "            \"enforcement_risk_indicators\": json.loads(row_dict.get(\"enforcement_risk_indicators_json\", \"[]\")),\n",
        "            \"historical_pattern_matches\": json.loads(row_dict.get(\"historical_pattern_matches_json\", \"[]\")),\n",
        "            \"pra_workflow_recommendation\": \"\",  # Can be set if present\n",
        "            \"regulatory_timeline_urgency\": row_dict.get(\"regulatory_urgency_level\", \"routine\")\n",
        "        },\n",
        "        \"analysis_metadata\": {\n",
        "            \"thread_type\": row_dict.get(\"primary_regulatory_concern\", \"\"),  # Replace if another column better fits\n",
        "            \"analysis_confidence_overall\": row_dict.get(\"analysis_confidence_overall\", 0.0),\n",
        "            \"validation_flags\": json.loads(row_dict.get(\"validation_flags_json\", \"[]\")),\n",
        "            \"token_usage\": row_dict.get(\"token_usage\", 0)\n",
        "        }\n",
        "    }\n",
        "\n",
        "    return json.dumps(output, indent=2)"
      ]
    },
    {
      "cell_type": "markdown",
      "metadata": {
        "id": "CgJ1cm6HvqQ8"
      },
      "source": [
        "This function generates a second-order evaluation prompt — in other words, it creates instructions for an AI model to review and critique the outputs of another AI system.\n",
        "\n",
        "**Purpose:**\n",
        "\n",
        "It is used to evaluate the **quality and relevance** of a large set of metrics (50+) generated by a language model analyzing a financial conversation. Each metric reflects aspects like regulatory alignment, sentiment, linguistic patterns, or enforcement risk.\n",
        "\n",
        "**Key Functions:**\n",
        "\n",
        "1. **Defines the meta-evaluator's role**:  \n",
        "   The AI is asked to behave like a senior regulatory reviewer, checking whether each metric in the model's output is actually relevant to the context of the conversation and prompt.\n",
        "\n",
        "2. **Inputs:**\n",
        "   - `thread_data`: metadata about the conversation (e.g., participants, thread type)\n",
        "   - `output`: the JSON produced by the original LLM (Agent 3)\n",
        "\n",
        "3. **Includes the full original prompt**:  \n",
        "   The prompt that was originally sent to the first AI (from `qa_prompt(thread_data)`) is embedded so the meta-reviewer understands what the LLM was responding to.\n",
        "\n",
        "4. **Enforces a strict output format**:  \n",
        "   The model must assess **each metric** using:\n",
        "   - A relevance score (High, Medium, Low)\n",
        "   - A one-line justification\n",
        "   - A recommendation: Keep, Revise, or Remove  \n",
        "   All in a consistent, line-by-line format for easy parsing.\n",
        "\n",
        "5. **Maintains strict formatting rules**:  \n",
        "   The model is told:\n",
        "   - Use **bold** for scores\n",
        "   - Use `backticks` for metric names\n",
        "   - No markdown blocks, no extra newlines, no skipped metrics\n",
        "\n",
        "**Why it matters:**\n",
        "\n",
        "This function enables **automated, structured evaluation of AI model performance** across dozens of granular outputs — which is essential for auditing, improving, or validating regulatory AI systems.\n",
        "\n",
        "The generated prompt is highly specific, instructional, and machine-readable, allowing for scalable review processes and downstream analysis.\n"
      ]
    },
    {
      "cell_type": "code",
      "execution_count": 12,
      "metadata": {
        "id": "uiiZIgFncMVz"
      },
      "outputs": [],
      "source": [
        "def meta_prompt_creator(thread_data: Dict, output: str) -> str:\n",
        "    meta_context = f\"\"\"\n",
        "You are acting as a senior regulatory analytics evaluator reviewing the output of an LLM-based system.\n",
        "\n",
        "The system analyzes financial conversations and returns a structured JSON with 50+ metrics across regulatory, conversational, and linguistic domains.\n",
        "\n",
        "The metrics to be considered are: {metrics_list}\n",
        "\n",
        "Each metric listed above corresponds to a field or nested subfield in the JSON. Use the exact names in this list as your output keys, even if the JSON uses longer paths\n",
        "\n",
        "Your job is to:\n",
        "- **Assess the relevance** of each metric/subfield with respect to the prompt and conversation.\n",
        "- **Provide a brief, one-sentence justification.**\n",
        "- **Give a concrete recommendation**: Keep (well-grounded), Revise (ambiguous or inconsistent), or Remove (unsupported or redundant).\n",
        "\n",
        "For each metric, follow this exact format on **a single line**:\n",
        "- `metric_path`: **High/Medium/Low Relevance** — Justification. **Recommendation: Keep/Revise/Remove**\n",
        "\n",
        "Strict formatting rules:\n",
        "- Use backticks for the field name.\n",
        "- Use bold for Relevance and Recommendation.\n",
        "- No extra newlines between entries.\n",
        "- One line per metric only — no markdown blocks, no JSON, no bullet summaries.\n",
        "- Do NOT skip any metric — include every field from the JSON output, including nested ones.\n",
        "\"\"\"\n",
        "\n",
        "\n",
        "\n",
        "    prompt_for_AI = f\"\"\"\n",
        "{meta_context}\n",
        "\n",
        "Here is the prompt originally sent to the LLM:\n",
        "[PROMPT START]\n",
        "{qa_prompt(thread_data)}\n",
        "[PROMPT END]\n",
        "\n",
        "Expected output format examples:\n",
        "- `financial_resilience_relevance`: **High Relevance** — Financial resilience is the central theme. **Recommendation: Keep**\n",
        "- `data_risk_topics_json`: **Low Relevance** — No discussion of data aggregation or reporting. **Recommendation: Remove**\n",
        "\n",
        "Here is the output JSON from the LLM:\n",
        "[OUTPUT START]\n",
        "{output}\n",
        "[OUTPUT END]\n",
        "\n",
        "Please analyze every metric in the list above. Return the relevance rating, justification, and recommendation in the exact format described.\n",
        "\"\"\"\n",
        "    return prompt_for_AI"
      ]
    },
    {
      "cell_type": "markdown",
      "metadata": {
        "id": "eZVy05mviToA"
      },
      "source": [
        "#DRY RUN"
      ]
    },
    {
      "cell_type": "markdown",
      "metadata": {
        "id": "MhtVCVf3wbTB"
      },
      "source": [
        "This block selects one row from the input and output datasets, formats the output row into a structured JSON using `format_output_json_from_row()`, then generates a meta-evaluation prompt using `meta_prompt_creator()` for that specific thread and output. The result is printed for inspection or testing.\n"
      ]
    },
    {
      "cell_type": "code",
      "execution_count": 13,
      "metadata": {
        "colab": {
          "base_uri": "https://localhost:8080/"
        },
        "id": "9jRKrqwViXk5",
        "outputId": "2e5986c1-e15d-49e2-eebb-fe0ae20a8a39"
      },
      "outputs": [
        {
          "name": "stdout",
          "output_type": "stream",
          "text": [
            "\n",
            "\n",
            "You are acting as a senior regulatory analytics evaluator reviewing the output of an LLM-based system.\n",
            "\n",
            "The system analyzes financial conversations and returns a structured JSON with 50+ metrics across regulatory, conversational, and linguistic domains.\n",
            "\n",
            "The metrics to be considered are: - analysis_priority\n",
            "- governance_sentiment\n",
            "- governance_confidence\n",
            "- governance_relevance\n",
            "- governance_topics_json\n",
            "- governance_pra_refs_json\n",
            "- data_risk_sentiment\n",
            "- data_risk_confidence\n",
            "- data_risk_relevance\n",
            "- data_risk_topics_json\n",
            "- data_risk_pra_refs_json\n",
            "- financial_resilience_sentiment\n",
            "- financial_resilience_confidence\n",
            "- financial_resilience_relevance\n",
            "- financial_resilience_topics_json\n",
            "- financial_resilience_pra_refs_json\n",
            "- operational_resilience_sentiment\n",
            "- operational_resilience_confidence\n",
            "- operational_resilience_relevance\n",
            "- operational_resilience_topics_json\n",
            "- operational_resilience_pra_refs_json\n",
            "- overall_sentiment\n",
            "- regulatory_concern_level\n",
            "- enforcement_risk_score\n",
            "- market_vs_regulatory_sentiment\n",
            "- uncertainty_score\n",
            "- future_focus_score\n",
            "- defensive_language_score\n",
            "- confidence_language_score\n",
            "- hedge_words_count\n",
            "- forward_statements_count\n",
            "- regulatory_keywords_count\n",
            "- primary_boe_priority\n",
            "- secondary_boe_priority\n",
            "- regulatory_topic_category\n",
            "- enforcement_risk_indicators_json\n",
            "- historical_pattern_matches_json\n",
            "- peer_comparison_flags_json\n",
            "- qa_sentiment_divergence\n",
            "- qa_deflection_score\n",
            "- qa_regulatory_tension\n",
            "- qa_analyst_persistence\n",
            "- qa_management_defensiveness\n",
            "- qa_information_asymmetry\n",
            "- conversation_quality_assessment\n",
            "- management_credibility_score\n",
            "- information_flow_analysis\n",
            "- deflection_progression_score\n",
            "- analyst_persistence_intensity\n",
            "- primary_regulatory_concern\n",
            "- concern_confidence_score\n",
            "- regulatory_urgency_level\n",
            "- enforcement_probability\n",
            "- thread_evidence_strength\n",
            "- conversation_evidence_strength\n",
            "- historical_pattern_match\n",
            "- cross_validation_score\n",
            "- analysis_confidence_overall\n",
            "- regulatory_intelligence_summary\n",
            "\n",
            "Each metric listed above corresponds to a field or nested subfield in the JSON. Use the exact names in this list as your output keys, even if the JSON uses longer paths\n",
            "\n",
            "Your job is to:\n",
            "- **Assess the relevance** of each metric/subfield with respect to the prompt and conversation.\n",
            "- **Provide a brief, one-sentence justification.**\n",
            "- **Give a concrete recommendation**: Keep (well-grounded), Revise (ambiguous or inconsistent), or Remove (unsupported or redundant).\n",
            "\n",
            "For each metric, follow this exact format on **a single line**:\n",
            "- `metric_path`: **High/Medium/Low Relevance** — Justification. **Recommendation: Keep/Revise/Remove**\n",
            "\n",
            "Strict formatting rules:\n",
            "- Use backticks for the field name.\n",
            "- Use bold for Relevance and Recommendation.\n",
            "- No extra newlines between entries.\n",
            "- One line per metric only — no markdown blocks, no JSON, no bullet summaries.\n",
            "- Do NOT skip any metric — include every field from the JSON output, including nested ones.\n",
            "\n",
            "\n",
            "Here is the prompt originally sent to the LLM:\n",
            "[PROMPT START]\n",
            "\n",
            "\n",
            "BANK OF ENGLAND PRA REGULATORY ANALYSIS CONTEXT:\n",
            "\n",
            "PRA 2025 SUPERVISORY PRIORITIES:\n",
            "Risk management, governance and controls:\n",
            "- Robust governance, risk management and controls frameworks\n",
            "- Counterparty credit risk (CCR) management focus\n",
            "- Risk culture assessment and senior management accountability\n",
            "Data risk:\n",
            "- Firms need to improve data aggregation for holistic risk management\n",
            "- Accurate and timely regulatory returns submission\n",
            "- Data quality for AI and technological developments\n",
            "Financial resilience:\n",
            "- Assessment of firms' capital and liquidity with stress testing\n",
            "- Funding and liquidity landscape changes including ILTR facility\n",
            "- Capital planning and forward-looking indicators\n",
            "Operational resilience:\n",
            "- Remain within impact tolerances for important business services\n",
            "- Cyber threats and third-party risk management\n",
            "- Legacy infrastructure remediation and resilient IT investments\n",
            "\n",
            "\n",
            "THREAD-SPECIFIC ANALYSIS FOCUS:\n",
            "Analysis Type: qa_exchange\n",
            "Primary Focus: Conversational dynamics, information asymmetries, deflection patterns\n",
            "Key Warning Signals: ['evasive answers', 'sentiment divergence', 'repeated questioning']\n",
            "Regulatory Lens: Are there concerning communication dynamics between management and analysts?\n",
            "\n",
            "CONVERSATIONAL REGULATORY INTELLIGENCE FRAMEWORK:\n",
            "You are analyzing as a Bank of England PRA supervisor focusing on:\n",
            "1. Complete conversational context and dynamics\n",
            "2. Which of the 4 supervisory priority areas this thread relates to most strongly\n",
            "3. Sentiment from REGULATORY COMPLIANCE perspective across the entire conversation\n",
            "4. Communication patterns matching historical enforcement cases\n",
            "5. Q&A dynamics revealing information asymmetries and deflection patterns\n",
            "6. Evidence synthesis across conversation flow\n",
            "7. Single authoritative regulatory assessment for the complete thread\n",
            "\n",
            "\n",
            "CONVERSATIONAL Q&A THREAD REGULATORY ANALYSIS\n",
            "\n",
            "COMPLETE CONVERSATION THREAD:\n",
            "Participants: Joseph Dickerson (Analyst) → Georges Elhedery (Executive)\n",
            "Questions in thread: 1\n",
            "Thread Type: Q&A Exchange\n",
            "\n",
            "CRITICAL ANALYSIS FOCUS:\n",
            "1. Information asymmetry: Question specificity vs answer directness\n",
            "2. Deflection progression: How evasion patterns evolve across follow-ups\n",
            "3. Management defensiveness: Defensive language escalation patterns\n",
            "4. Regulatory intelligence: BoE priority concerns revealed through complete exchange\n",
            "5. Conversational dynamics: Power dynamics, interruptions, topic control\n",
            "6. Assess historical precedent situations and enforcement. Always do this looking backwards from quarter/year being analysed : Evidence synthesis\n",
            "\n",
            "ENHANCED Q&A ANALYSIS REQUIREMENTS:\n",
            "- Analyze complete conversation flow, not individual statements\n",
            "- Detect question deflection and regulatory evasion patterns\n",
            "- Assess management credibility through response quality\n",
            "- Identify information asymmetries between management knowledge and market concerns\n",
            "- Map conversation to specific BoE supervisory priorities\n",
            "\n",
            "RETURN ONLY VALID JSON in this exact format:\n",
            "{\n",
            "  \"boe_priority_analysis\": {\n",
            "    \"governance_controls\": {\n",
            "      \"sentiment\": 0.2,\n",
            "      \"confidence\": 0.9,\n",
            "      \"relevance\": 0.8,\n",
            "      \"key_topics\": [\"board oversight\", \"risk culture\"],\n",
            "      \"pra_policy_refs\": [\"SS5/21\"],\n",
            "      \"warning_signals\": [\"weak controls language\"]\n",
            "    },\n",
            "    \"data_risk\": {\n",
            "      \"sentiment\": 0.0,\n",
            "      \"confidence\": 0.7,\n",
            "      \"relevance\": 0.3,\n",
            "      \"key_topics\": [\"data quality\"],\n",
            "      \"pra_policy_refs\": [\"data governance\"],\n",
            "      \"warning_signals\": []\n",
            "    },\n",
            "    \"financial_resilience\": {\n",
            "      \"sentiment\": 0.1,\n",
            "      \"confidence\": 0.8,\n",
            "      \"relevance\": 0.9,\n",
            "      \"key_topics\": [\"capital planning\"],\n",
            "      \"pra_policy_refs\": [\"Basel 3.1\"],\n",
            "      \"warning_signals\": [\"capital concerns\"]\n",
            "    },\n",
            "    \"operational_resilience\": {\n",
            "      \"sentiment\": -0.2,\n",
            "      \"confidence\": 0.9,\n",
            "      \"relevance\": 0.6,\n",
            "      \"key_topics\": [\"cyber risk\"],\n",
            "      \"pra_policy_refs\": [\"operational resilience\"],\n",
            "      \"warning_signals\": [\"operational incidents\"]\n",
            "    }\n",
            "  },\n",
            "  \"qa_dynamics_analysis\": {\n",
            "    \"qa_sentiment_divergence\": 0.6,\n",
            "    \"qa_deflection_score\": 0.4,\n",
            "    \"qa_regulatory_tension\": 0.5,\n",
            "    \"qa_analyst_persistence\": 0.7,\n",
            "    \"qa_management_defensiveness\": 0.3,\n",
            "    \"qa_information_asymmetry\": 0.8\n",
            "  },\n",
            "  \"conversational_intelligence\": {\n",
            "    \"conversation_quality_assessment\": \"concerning\",\n",
            "    \"management_credibility_score\": 0.4,\n",
            "    \"information_flow_analysis\": \"restricted\",\n",
            "    \"deflection_progression_score\": 0.6,\n",
            "    \"analyst_persistence_intensity\": 0.8\n",
            "  },\n",
            "  \"unified_regulatory_assessment\": {\n",
            "    \"primary_regulatory_concern\": \"financial_resilience\",\n",
            "    \"concern_confidence_score\": 0.85,\n",
            "    \"regulatory_urgency_level\": \"elevated\",\n",
            "    \"enforcement_probability\": 0.3\n",
            "  },\n",
            "  \"evidence_synthesis\": {\n",
            "    \"thread_evidence_strength\": 0.7,\n",
            "    \"conversation_evidence_strength\": 0.8,\n",
            "    \"historical_pattern_match\": 0.6,\n",
            "    \"cross_validation_score\": 0.8\n",
            "  },\n",
            "  \"regulatory_intelligence\": {\n",
            "    \"overall_sentiment\": 0.1,\n",
            "    \"regulatory_concern_level\": \"medium\",\n",
            "    \"enforcement_risk_score\": 0.3,\n",
            "    \"market_vs_regulatory_sentiment\": 0.4,\n",
            "    \"primary_boe_priority\": \"financial_resilience\",\n",
            "    \"secondary_boe_priority\": \"operational_resilience\",\n",
            "    \"regulatory_topic_category\": \"capital\"\n",
            "  },\n",
            "  \"linguistic_analysis\": {\n",
            "    \"uncertainty_score\": 0.6,\n",
            "    \"future_focus_score\": 0.5,\n",
            "    \"defensive_language_score\": 0.4,\n",
            "    \"confidence_language_score\": 0.4,\n",
            "    \"hedge_words_count\": 12,\n",
            "    \"forward_statements_count\": 2,\n",
            "    \"regulatory_keywords_count\": 8\n",
            "  },\n",
            "  \"enforcement_analysis\": {\n",
            "    \"enforcement_risk_indicators\": [\"deflection patterns\", \"information asymmetry\"],\n",
            "    \"historical_pattern_matches\": [\"Credit Suisse Q2 2021\"],\n",
            "    \"pra_workflow_recommendation\": \"Enhanced Q&A monitoring in next PSM\",\n",
            "    \"regulatory_timeline_urgency\": \"within_90_days\"\n",
            "  },\n",
            "  \"analysis_metadata\": {\n",
            "    \"thread_type\": \"qa_exchange\",\n",
            "    \"analysis_confidence_overall\": 0.85,\n",
            "    \"validation_flags\": [\"complete_conversation_analysis\"],\n",
            "    \"token_usage\": 450\n",
            "  }\n",
            "}\n",
            "\n",
            "CONVERSATION TO ANALYZE:\n",
            "Good morning, gentlemen. Congrats on a good set of numbers in what wasn't the easiest environment in Q1. Just a quick question on the buyback. You've been very precise in discussing that you would expect to complete the buyback over three months. Is this something now we can expect to be a regular quarterly event, given the strong capital generation, not to mention Canada completing early next year, or is it going to be slightly more erratic?\n",
            "\n",
            "Thank you, Joe. So first, we are hoping to achieve $2 billion in the next three months. In the past, we've managed to achieve between $1 billion and $1.5 billion in a quarter. We have five months to complete this programme. We are hoping to complete it in three months. Going forward, we're certainly considering a rolling series of buybacks in 2023, 2024, 2025, and those will be supported by organic capital generation as well as the Canada sale proceeds in 2024. And Joe, it remains our intention to return excess capital, including the Canada proceeds, if the conditions justify it.\n",
            "\n",
            "Return ONLY the JSON object above.\n",
            "\n",
            "[PROMPT END]\n",
            "\n",
            "Expected output format examples:\n",
            "- `financial_resilience_relevance`: **High Relevance** — Financial resilience is the central theme. **Recommendation: Keep**\n",
            "- `data_risk_topics_json`: **Low Relevance** — No discussion of data aggregation or reporting. **Recommendation: Remove**\n",
            "\n",
            "Here is the output JSON from the LLM:\n",
            "[OUTPUT START]\n",
            "{\n",
            "  \"boe_priority_analysis\": {\n",
            "    \"governance_controls\": {\n",
            "      \"sentiment\": 0.3,\n",
            "      \"confidence\": 0.7,\n",
            "      \"relevance\": 0.4,\n",
            "      \"key_topics\": [\n",
            "        \"capital allocation decisions\",\n",
            "        \"board oversight\"\n",
            "      ],\n",
            "      \"pra_policy_refs\": [\n",
            "        \"SS5/21\"\n",
            "      ],\n",
            "      \"warning_signals\": []\n",
            "    },\n",
            "    \"data_risk\": {\n",
            "      \"sentiment\": 0.0,\n",
            "      \"confidence\": 0.5,\n",
            "      \"relevance\": 0.1,\n",
            "      \"key_topics\": [],\n",
            "      \"pra_policy_refs\": [],\n",
            "      \"warning_signals\": []\n",
            "    },\n",
            "    \"financial_resilience\": {\n",
            "      \"sentiment\": 0.4,\n",
            "      \"confidence\": 0.9,\n",
            "      \"relevance\": 0.95,\n",
            "      \"key_topics\": [\n",
            "        \"capital planning\",\n",
            "        \"capital generation\",\n",
            "        \"excess capital returns\"\n",
            "      ],\n",
            "      \"pra_policy_refs\": [\n",
            "        \"Basel 3.1\",\n",
            "        \"capital buffers\"\n",
            "      ],\n",
            "      \"warning_signals\": []\n",
            "    },\n",
            "    \"operational_resilience\": {\n",
            "      \"sentiment\": 0.0,\n",
            "      \"confidence\": 0.5,\n",
            "      \"relevance\": 0.1,\n",
            "      \"key_topics\": [],\n",
            "      \"pra_policy_refs\": [],\n",
            "      \"warning_signals\": []\n",
            "    }\n",
            "  },\n",
            "  \"qa_dynamics_analysis\": {\n",
            "    \"qa_sentiment_divergence\": 0.1,\n",
            "    \"qa_deflection_score\": 0.2,\n",
            "    \"qa_regulatory_tension\": 0.1,\n",
            "    \"qa_analyst_persistence\": 0.3,\n",
            "    \"qa_management_defensiveness\": 0.1,\n",
            "    \"qa_information_asymmetry\": 0.2\n",
            "  },\n",
            "  \"conversational_intelligence\": {\n",
            "    \"conversation_quality_assessment\": \"satisfactory\",\n",
            "    \"management_credibility_score\": 0.8,\n",
            "    \"information_flow_analysis\": \"transparent\",\n",
            "    \"deflection_progression_score\": 0.2,\n",
            "    \"analyst_persistence_intensity\": 0.3\n",
            "  },\n",
            "  \"unified_regulatory_assessment\": {\n",
            "    \"primary_regulatory_concern\": \"financial_resilience\",\n",
            "    \"concern_confidence_score\": 0.7,\n",
            "    \"regulatory_urgency_level\": \"routine\",\n",
            "    \"enforcement_probability\": 0.1\n",
            "  },\n",
            "  \"evidence_synthesis\": {\n",
            "    \"thread_evidence_strength\": 0.6,\n",
            "    \"conversation_evidence_strength\": 0.7,\n",
            "    \"historical_pattern_match\": 0.2,\n",
            "    \"cross_validation_score\": 0.8\n",
            "  },\n",
            "  \"regulatory_intelligence\": {\n",
            "    \"overall_sentiment\": 0.3,\n",
            "    \"regulatory_concern_level\": \"low\",\n",
            "    \"enforcement_risk_score\": 0.1,\n",
            "    \"market_vs_regulatory_sentiment\": 0.2,\n",
            "    \"primary_boe_priority\": \"financial_resilience\",\n",
            "    \"secondary_boe_priority\": \"governance_controls\",\n",
            "    \"regulatory_topic_category\": \"capital\"\n",
            "  },\n",
            "  \"linguistic_analysis\": {\n",
            "    \"uncertainty_score\": 0.3,\n",
            "    \"future_focus_score\": 0.8,\n",
            "    \"defensive_language_score\": 0.1,\n",
            "    \"confidence_language_score\": 0.7,\n",
            "    \"hedge_words_count\": 4,\n",
            "    \"forward_statements_count\": 6,\n",
            "    \"regulatory_keywords_count\": 3\n",
            "  },\n",
            "  \"enforcement_analysis\": {\n",
            "    \"enforcement_risk_indicators\": [],\n",
            "    \"historical_pattern_matches\": [],\n",
            "    \"pra_workflow_recommendation\": \"\",\n",
            "    \"regulatory_timeline_urgency\": \"routine\"\n",
            "  },\n",
            "  \"analysis_metadata\": {\n",
            "    \"thread_type\": \"financial_resilience\",\n",
            "    \"analysis_confidence_overall\": 0.8,\n",
            "    \"validation_flags\": [\n",
            "      \"complete_conversation_analysis\"\n",
            "    ],\n",
            "    \"token_usage\": 450\n",
            "  }\n",
            "}\n",
            "[OUTPUT END]\n",
            "\n",
            "Please analyze every metric in the list above. Return the relevance rating, justification, and recommendation in the exact format described.\n",
            "\n"
          ]
        }
      ],
      "source": [
        "chosen_row = 0\n",
        "\n",
        "thread_data = input_data.iloc[chosen_row].to_dict()\n",
        "output_dict = output_data.iloc[chosen_row].to_dict()\n",
        "\n",
        "output = format_output_json_from_row(output_dict)\n",
        "#print(output)\n",
        "\n",
        "meta_prompt = meta_prompt_creator(thread_data, output)\n",
        "\n",
        "print(meta_prompt)"
      ]
    },
    {
      "cell_type": "markdown",
      "metadata": {
        "id": "eeuUIsDZwjfM"
      },
      "source": [
        "This block sends the meta-evaluation prompt to the OpenAI API (e.g. GPT-4o) and retrieves the model’s structured feedback on the output JSON. It uses the API key stored in the `OPENAI_API_KEY` environment variable. The result is printed for review.\n",
        "\n",
        "Note: This cell is currently commented out to prevent unintended API calls during testing.\n"
      ]
    },
    {
      "cell_type": "code",
      "execution_count": 14,
      "metadata": {
        "colab": {
          "base_uri": "https://localhost:8080/",
          "height": 89
        },
        "id": "h9oxZ8qQmyBl",
        "outputId": "b7d079ba-4898-4612-a2fd-cacbe0436acb"
      },
      "outputs": [
        {
          "data": {
            "application/vnd.google.colaboratory.intrinsic+json": {
              "type": "string"
            },
            "text/plain": [
              "'\\nclient = OpenAI(api_key=os.getenv(\"OPENAI_API_KEY\"))\\n\\nresponse = client.chat.completions.create(\\n    model=\"gpt-4o\",  # or \"gpt-4-turbo\"\\n    messages=[\\n        {\"role\": \"system\", \"content\": \"You are an expert regulatory reviewer.\"},\\n        {\"role\": \"user\", \"content\": meta_prompt}\\n    ],\\n    temperature=0.3,\\n    max_tokens=2000\\n)\\n\\nreview_output = response.choices[0].message.content\\nprint(review_output)\\n'"
            ]
          },
          "execution_count": 14,
          "metadata": {},
          "output_type": "execute_result"
        }
      ],
      "source": [
        "import openai\n",
        "from openai import OpenAI\n",
        "\"\"\"\n",
        "client = OpenAI(api_key=os.getenv(\"OPENAI_API_KEY\"))\n",
        "\n",
        "response = client.chat.completions.create(\n",
        "    model=\"gpt-4o\",  # or \"gpt-4-turbo\"\n",
        "    messages=[\n",
        "        {\"role\": \"system\", \"content\": \"You are an expert regulatory reviewer.\"},\n",
        "        {\"role\": \"user\", \"content\": meta_prompt}\n",
        "    ],\n",
        "    temperature=0.3,\n",
        "    max_tokens=2000\n",
        ")\n",
        "\n",
        "review_output = response.choices[0].message.content\n",
        "print(review_output)\n",
        "\"\"\""
      ]
    },
    {
      "cell_type": "markdown",
      "metadata": {
        "id": "NC1SxhjnqsUX"
      },
      "source": [
        "# FULL RUN"
      ]
    },
    {
      "cell_type": "markdown",
      "metadata": {
        "id": "NU0GN35BwvuJ"
      },
      "source": [
        "This block runs a batch evaluation loop over up to 30 threads. For each row in the dataset:\n",
        "- It formats the model's output as JSON using `format_output_json_from_row()`\n",
        "- Generates a meta-evaluation prompt with `meta_prompt_creator()`\n",
        "- Sends the prompt to the OpenAI API (GPT-4o) to obtain regulatory feedback\n",
        "- Appends the model’s response text to a list for later use\n",
        "\n",
        "Progress is tracked with `tqdm`. The API key is loaded from the environment via `OPENAI_API_KEY`.\n"
      ]
    },
    {
      "cell_type": "code",
      "execution_count": 16,
      "metadata": {
        "colab": {
          "base_uri": "https://localhost:8080/"
        },
        "id": "h3WqB2jCq7Le",
        "outputId": "c44d9eeb-0dfa-4f33-f294-019eb438a1f8"
      },
      "outputs": [
        {
          "name": "stderr",
          "output_type": "stream",
          "text": [
            "100%|██████████| 11/11 [06:57<00:00, 37.93s/it]\n"
          ]
        }
      ],
      "source": [
        "from tqdm import tqdm\n",
        "\n",
        "all_responses = []\n",
        "MAX_ROWS = 30\n",
        "\n",
        "client = OpenAI(api_key=os.getenv(\"OPENAI_API_KEY\"))\n",
        "\n",
        "n = min(MAX_ROWS, len(input_data))\n",
        "\n",
        "for i in tqdm(range(n)):\n",
        "\n",
        "    thread_data = input_data.iloc[i].to_dict()\n",
        "    output_dict = output_data.iloc[i].to_dict()\n",
        "\n",
        "    output_json = format_output_json_from_row(output_dict)\n",
        "\n",
        "    # Create prompt\n",
        "    prompt = meta_prompt_creator(thread_data, output_json)\n",
        "\n",
        "    # Send to OpenAI\n",
        "    response = client.chat.completions.create(\n",
        "        model=\"gpt-4o\",\n",
        "        messages=[\n",
        "            {\"role\": \"system\", \"content\": \"You are an expert regulatory reviewer.\"},\n",
        "            {\"role\": \"user\", \"content\": prompt}\n",
        "        ],\n",
        "        temperature=0.3,\n",
        "        max_tokens=4096\n",
        "    )\n",
        "\n",
        "    # Save string response\n",
        "    response_text = response.choices[0].message.content\n",
        "    all_responses.append(response_text)"
      ]
    },
    {
      "cell_type": "markdown",
      "metadata": {
        "id": "I2FCF3AUuHJJ"
      },
      "source": [
        "# CREATING VISUALS"
      ]
    },
    {
      "cell_type": "markdown",
      "metadata": {
        "id": "4eyK-BgD0T0w"
      },
      "source": [
        "A sample response is printed to check for potential errors"
      ]
    },
    {
      "cell_type": "code",
      "execution_count": 17,
      "metadata": {
        "colab": {
          "base_uri": "https://localhost:8080/"
        },
        "id": "lzY_DQj4ccF3",
        "outputId": "6f807af7-23c9-41b8-9a2b-80eeafd8d2cb"
      },
      "outputs": [
        {
          "name": "stdout",
          "output_type": "stream",
          "text": [
            "`analysis_priority`: **Medium Relevance** — The analysis priority is not explicitly discussed but is indirectly relevant to the regulatory focus. **Recommendation: Revise**  \n",
            "`governance_sentiment`: **Low Relevance** — Governance sentiment is not a central theme in the conversation. **Recommendation: Remove**  \n",
            "`governance_confidence`: **Low Relevance** — Confidence in governance sentiment is not directly addressed. **Recommendation: Remove**  \n",
            "`governance_relevance`: **Low Relevance** — Governance is not a primary focus of the conversation. **Recommendation: Remove**  \n",
            "`governance_topics_json`: **Low Relevance** — Specific governance topics are not detailed in the conversation. **Recommendation: Remove**  \n",
            "`governance_pra_refs_json`: **Low Relevance** — PRA references related to governance are not discussed. **Recommendation: Remove**  \n",
            "`data_risk_sentiment`: **Low Relevance** — Data risk sentiment is not a focus in the conversation. **Recommendation: Remove**  \n",
            "`data_risk_confidence`: **Low Relevance** — Confidence in data risk sentiment is not applicable here. **Recommendation: Remove**  \n",
            "`data_risk_relevance`: **Low Relevance** — Data risk is not a significant topic in the conversation. **Recommendation: Remove**  \n",
            "`data_risk_topics_json`: **Low Relevance** — No specific data risk topics are mentioned. **Recommendation: Remove**  \n",
            "`data_risk_pra_refs_json`: **Low Relevance** — PRA references for data risk are not relevant to the conversation. **Recommendation: Remove**  \n",
            "`financial_resilience_sentiment`: **High Relevance** — Financial resilience is a key theme discussed in the conversation. **Recommendation: Keep**  \n",
            "`financial_resilience_confidence`: **High Relevance** — Confidence in financial resilience sentiment is crucial for regulatory assessment. **Recommendation: Keep**  \n",
            "`financial_resilience_relevance`: **High Relevance** — The conversation strongly relates to financial resilience. **Recommendation: Keep**  \n",
            "`financial_resilience_topics_json`: **High Relevance** — Topics like loan growth and cost discipline are central to the discussion. **Recommendation: Keep**  \n",
            "`financial_resilience_pra_refs_json`: **High Relevance** — PRA references related to financial resilience are pertinent. **Recommendation: Keep**  \n",
            "`operational_resilience_sentiment`: **Medium Relevance** — Operational resilience is mentioned but not a primary focus. **Recommendation: Revise**  \n",
            "`operational_resilience_confidence`: **Medium Relevance** — Confidence in operational resilience sentiment is somewhat relevant. **Recommendation: Revise**  \n",
            "`operational_resilience_relevance`: **Medium Relevance** — Operational resilience is discussed but not in depth. **Recommendation: Revise**  \n",
            "`operational_resilience_topics_json`: **Medium Relevance** — Some operational resilience topics are touched upon. **Recommendation: Revise**  \n",
            "`operational_resilience_pra_refs_json`: **Medium Relevance** — PRA references for operational resilience are somewhat relevant. **Recommendation: Revise**  \n",
            "`overall_sentiment`: **High Relevance** — Overall sentiment is crucial for understanding the regulatory perspective. **Recommendation: Keep**  \n",
            "`regulatory_concern_level`: **High Relevance** — The level of regulatory concern is central to the analysis. **Recommendation: Keep**  \n",
            "`enforcement_risk_score`: **High Relevance** — Enforcement risk is a key regulatory consideration. **Recommendation: Keep**  \n",
            "`market_vs_regulatory_sentiment`: **Medium Relevance** — Comparison of market and regulatory sentiment is relevant but not central. **Recommendation: Revise**  \n",
            "`uncertainty_score`: **Medium Relevance** — Uncertainty is relevant to the analysis but not a primary focus. **Recommendation: Revise**  \n",
            "`future_focus_score`: **Medium Relevance** — Future focus is somewhat relevant to the conversation. **Recommendation: Revise**  \n",
            "`defensive_language_score`: **Medium Relevance** — Defensive language is relevant to conversational dynamics. **Recommendation: Revise**  \n",
            "`confidence_language_score`: **Medium Relevance** — Confidence in language is relevant but not central. **Recommendation: Revise**  \n",
            "`hedge_words_count`: **Medium Relevance** — The count of hedge words is relevant to assessing language use. **Recommendation: Revise**  \n",
            "`forward_statements_count`: **Medium Relevance** — Forward statements are relevant but not central to the analysis. **Recommendation: Revise**  \n",
            "`regulatory_keywords_count`: **Medium Relevance** — The count of regulatory keywords is relevant but not central. **Recommendation: Revise**  \n",
            "`primary_boe_priority`: **High Relevance** — Identifying the primary BoE priority is crucial for the analysis. **Recommendation: Keep**  \n",
            "`secondary_boe_priority`: **Medium Relevance** — The secondary BoE priority is relevant but less critical. **Recommendation: Revise**  \n",
            "`regulatory_topic_category`: **High Relevance** — The regulatory topic category is central to the analysis. **Recommendation: Keep**  \n",
            "`enforcement_risk_indicators_json`: **High Relevance** — Indicators of enforcement risk are crucial for regulatory assessment. **Recommendation: Keep**  \n",
            "`historical_pattern_matches_json`: **Medium Relevance** — Historical pattern matches provide context but are not central. **Recommendation: Revise**  \n",
            "`peer_comparison_flags_json`: **Low Relevance** — Peer comparison is not a focus of the conversation. **Recommendation: Remove**  \n",
            "`qa_sentiment_divergence`: **High Relevance** — Sentiment divergence is key to understanding conversational dynamics. **Recommendation: Keep**  \n",
            "`qa_deflection_score`: **High Relevance** — Deflection is a critical aspect of the conversational analysis. **Recommendation: Keep**  \n",
            "`qa_regulatory_tension`: **High Relevance** — Regulatory tension is central to the conversational analysis. **Recommendation: Keep**  \n",
            "`qa_analyst_persistence`: **High Relevance** — Analyst persistence is crucial for understanding the conversation. **Recommendation: Keep**  \n",
            "`qa_management_defensiveness`: **High Relevance** — Management defensiveness is key to the conversational analysis. **Recommendation: Keep**  \n",
            "`qa_information_asymmetry`: **High Relevance** — Information asymmetry is a central focus of the analysis. **Recommendation: Keep**  \n",
            "`conversation_quality_assessment`: **High Relevance** — Assessing conversation quality is crucial for regulatory analysis. **Recommendation: Keep**  \n",
            "`management_credibility_score`: **High Relevance** — Management credibility is key to understanding the conversation. **Recommendation: Keep**  \n",
            "`information_flow_analysis`: **High Relevance** — Information flow is central to the conversational analysis. **Recommendation: Keep**  \n",
            "`deflection_progression_score`: **High Relevance** — Deflection progression is crucial for understanding conversational dynamics. **Recommendation: Keep**  \n",
            "`analyst_persistence_intensity`: **High Relevance** — Analyst persistence intensity is key to the analysis. **Recommendation: Keep**  \n",
            "`primary_regulatory_concern`: **High Relevance** — Identifying the primary regulatory concern is crucial. **Recommendation: Keep**  \n",
            "`concern_confidence_score`: **High Relevance** — Confidence in the primary concern is central to the analysis. **Recommendation: Keep**  \n",
            "`regulatory_urgency_level`: **High Relevance** — The urgency level is crucial for regulatory assessment. **Recommendation: Keep**  \n",
            "`enforcement_probability`: **High Relevance** — The probability of enforcement is a key regulatory consideration. **Recommendation: Keep**  \n",
            "`thread_evidence_strength`: **High Relevance** — Evidence strength is crucial for regulatory analysis. **Recommendation: Keep**  \n",
            "`conversation_evidence_strength`: **High Relevance** — Conversation evidence strength is central to the analysis. **Recommendation: Keep**  \n",
            "`historical_pattern_match`: **Medium Relevance** — Historical pattern matches provide context but are not central. **Recommendation: Revise**  \n",
            "`cross_validation_score`: **Medium Relevance** — Cross-validation provides context but is not central. **Recommendation: Revise**  \n",
            "`analysis_confidence_overall`: **High Relevance** — Overall confidence in the analysis is crucial. **Recommendation: Keep**  \n",
            "`regulatory_intelligence_summary`: **High Relevance** — A summary of regulatory intelligence is central to the analysis. **Recommendation: Keep**\n"
          ]
        }
      ],
      "source": [
        "print(all_responses[-1])"
      ]
    },
    {
      "cell_type": "markdown",
      "metadata": {
        "id": "8KZaczch0Z1p"
      },
      "source": [
        "This block parses the evaluation responses from the second-level LLM (the meta-reviewer).\n",
        "\n",
        "Each response contains structured text lines like:\n",
        "`field_name`: **High Relevance** — Justification sentence. **Recommendation: Keep**\n",
        "\n",
        "The `re` pattern extracts:\n",
        "- The metric name\n",
        "- Its relevance score (High/Medium/Low)\n",
        "- A brief justification\n",
        "- The recommendation (Keep/Revise/Remove)\n",
        "\n",
        "It loops through all responses, extracts the relevant information, and stores it in a list of dictionaries. The result is converted into a pandas DataFrame (`parsed_df`) for further analysis or aggregation.\n",
        "\n",
        "If no matches are found in a response, a warning and snippet preview are printed."
      ]
    },
    {
      "cell_type": "code",
      "execution_count": 18,
      "metadata": {
        "colab": {
          "base_uri": "https://localhost:8080/",
          "height": 224
        },
        "id": "OQnwkjV_uIyi",
        "outputId": "5f7c9d36-891a-4cf0-a80f-9d4dfa24ae03"
      },
      "outputs": [
        {
          "name": "stdout",
          "output_type": "stream",
          "text": [
            "✅ Parsed 649 fields across 11 responses.\n"
          ]
        },
        {
          "data": {
            "application/vnd.google.colaboratory.intrinsic+json": {
              "summary": "{\n  \"name\": \"    display(parsed_df\",\n  \"rows\": 5,\n  \"fields\": [\n    {\n      \"column\": \"field\",\n      \"properties\": {\n        \"dtype\": \"string\",\n        \"num_unique_values\": 5,\n        \"samples\": [\n          \"governance_sentiment\",\n          \"governance_topics_json\",\n          \"governance_confidence\"\n        ],\n        \"semantic_type\": \"\",\n        \"description\": \"\"\n      }\n    },\n    {\n      \"column\": \"relevance\",\n      \"properties\": {\n        \"dtype\": \"category\",\n        \"num_unique_values\": 2,\n        \"samples\": [\n          \"Medium\",\n          \"High\"\n        ],\n        \"semantic_type\": \"\",\n        \"description\": \"\"\n      }\n    },\n    {\n      \"column\": \"justification\",\n      \"properties\": {\n        \"dtype\": \"string\",\n        \"num_unique_values\": 5,\n        \"samples\": [\n          \"Governance sentiment is somewhat relevant given the mention of board oversight\",\n          \"Topics like board oversight are relevant but not central\"\n        ],\n        \"semantic_type\": \"\",\n        \"description\": \"\"\n      }\n    },\n    {\n      \"column\": \"recommendation\",\n      \"properties\": {\n        \"dtype\": \"category\",\n        \"num_unique_values\": 2,\n        \"samples\": [\n          \"Revise\",\n          \"Keep\"\n        ],\n        \"semantic_type\": \"\",\n        \"description\": \"\"\n      }\n    }\n  ]\n}",
              "type": "dataframe"
            },
            "text/html": [
              "\n",
              "  <div id=\"df-b0f5b704-650f-416b-8eba-2330686d9fd9\" class=\"colab-df-container\">\n",
              "    <div>\n",
              "<style scoped>\n",
              "    .dataframe tbody tr th:only-of-type {\n",
              "        vertical-align: middle;\n",
              "    }\n",
              "\n",
              "    .dataframe tbody tr th {\n",
              "        vertical-align: top;\n",
              "    }\n",
              "\n",
              "    .dataframe thead th {\n",
              "        text-align: right;\n",
              "    }\n",
              "</style>\n",
              "<table border=\"1\" class=\"dataframe\">\n",
              "  <thead>\n",
              "    <tr style=\"text-align: right;\">\n",
              "      <th></th>\n",
              "      <th>field</th>\n",
              "      <th>relevance</th>\n",
              "      <th>justification</th>\n",
              "      <th>recommendation</th>\n",
              "    </tr>\n",
              "  </thead>\n",
              "  <tbody>\n",
              "    <tr>\n",
              "      <th>0</th>\n",
              "      <td>analysis_priority</td>\n",
              "      <td>High</td>\n",
              "      <td>The analysis priority aligns with the focus on...</td>\n",
              "      <td>Keep</td>\n",
              "    </tr>\n",
              "    <tr>\n",
              "      <th>1</th>\n",
              "      <td>governance_sentiment</td>\n",
              "      <td>Medium</td>\n",
              "      <td>Governance sentiment is somewhat relevant give...</td>\n",
              "      <td>Keep</td>\n",
              "    </tr>\n",
              "    <tr>\n",
              "      <th>2</th>\n",
              "      <td>governance_confidence</td>\n",
              "      <td>Medium</td>\n",
              "      <td>Confidence in governance sentiment is relevant...</td>\n",
              "      <td>Keep</td>\n",
              "    </tr>\n",
              "    <tr>\n",
              "      <th>3</th>\n",
              "      <td>governance_relevance</td>\n",
              "      <td>Medium</td>\n",
              "      <td>Governance is mentioned but not the primary focus</td>\n",
              "      <td>Revise</td>\n",
              "    </tr>\n",
              "    <tr>\n",
              "      <th>4</th>\n",
              "      <td>governance_topics_json</td>\n",
              "      <td>Medium</td>\n",
              "      <td>Topics like board oversight are relevant but n...</td>\n",
              "      <td>Revise</td>\n",
              "    </tr>\n",
              "  </tbody>\n",
              "</table>\n",
              "</div>\n",
              "    <div class=\"colab-df-buttons\">\n",
              "\n",
              "  <div class=\"colab-df-container\">\n",
              "    <button class=\"colab-df-convert\" onclick=\"convertToInteractive('df-b0f5b704-650f-416b-8eba-2330686d9fd9')\"\n",
              "            title=\"Convert this dataframe to an interactive table.\"\n",
              "            style=\"display:none;\">\n",
              "\n",
              "  <svg xmlns=\"http://www.w3.org/2000/svg\" height=\"24px\" viewBox=\"0 -960 960 960\">\n",
              "    <path d=\"M120-120v-720h720v720H120Zm60-500h600v-160H180v160Zm220 220h160v-160H400v160Zm0 220h160v-160H400v160ZM180-400h160v-160H180v160Zm440 0h160v-160H620v160ZM180-180h160v-160H180v160Zm440 0h160v-160H620v160Z\"/>\n",
              "  </svg>\n",
              "    </button>\n",
              "\n",
              "  <style>\n",
              "    .colab-df-container {\n",
              "      display:flex;\n",
              "      gap: 12px;\n",
              "    }\n",
              "\n",
              "    .colab-df-convert {\n",
              "      background-color: #E8F0FE;\n",
              "      border: none;\n",
              "      border-radius: 50%;\n",
              "      cursor: pointer;\n",
              "      display: none;\n",
              "      fill: #1967D2;\n",
              "      height: 32px;\n",
              "      padding: 0 0 0 0;\n",
              "      width: 32px;\n",
              "    }\n",
              "\n",
              "    .colab-df-convert:hover {\n",
              "      background-color: #E2EBFA;\n",
              "      box-shadow: 0px 1px 2px rgba(60, 64, 67, 0.3), 0px 1px 3px 1px rgba(60, 64, 67, 0.15);\n",
              "      fill: #174EA6;\n",
              "    }\n",
              "\n",
              "    .colab-df-buttons div {\n",
              "      margin-bottom: 4px;\n",
              "    }\n",
              "\n",
              "    [theme=dark] .colab-df-convert {\n",
              "      background-color: #3B4455;\n",
              "      fill: #D2E3FC;\n",
              "    }\n",
              "\n",
              "    [theme=dark] .colab-df-convert:hover {\n",
              "      background-color: #434B5C;\n",
              "      box-shadow: 0px 1px 3px 1px rgba(0, 0, 0, 0.15);\n",
              "      filter: drop-shadow(0px 1px 2px rgba(0, 0, 0, 0.3));\n",
              "      fill: #FFFFFF;\n",
              "    }\n",
              "  </style>\n",
              "\n",
              "    <script>\n",
              "      const buttonEl =\n",
              "        document.querySelector('#df-b0f5b704-650f-416b-8eba-2330686d9fd9 button.colab-df-convert');\n",
              "      buttonEl.style.display =\n",
              "        google.colab.kernel.accessAllowed ? 'block' : 'none';\n",
              "\n",
              "      async function convertToInteractive(key) {\n",
              "        const element = document.querySelector('#df-b0f5b704-650f-416b-8eba-2330686d9fd9');\n",
              "        const dataTable =\n",
              "          await google.colab.kernel.invokeFunction('convertToInteractive',\n",
              "                                                    [key], {});\n",
              "        if (!dataTable) return;\n",
              "\n",
              "        const docLinkHtml = 'Like what you see? Visit the ' +\n",
              "          '<a target=\"_blank\" href=https://colab.research.google.com/notebooks/data_table.ipynb>data table notebook</a>'\n",
              "          + ' to learn more about interactive tables.';\n",
              "        element.innerHTML = '';\n",
              "        dataTable['output_type'] = 'display_data';\n",
              "        await google.colab.output.renderOutput(dataTable, element);\n",
              "        const docLink = document.createElement('div');\n",
              "        docLink.innerHTML = docLinkHtml;\n",
              "        element.appendChild(docLink);\n",
              "      }\n",
              "    </script>\n",
              "  </div>\n",
              "\n",
              "\n",
              "    <div id=\"df-223c6e83-fa40-45e9-a010-c2cdc82222d3\">\n",
              "      <button class=\"colab-df-quickchart\" onclick=\"quickchart('df-223c6e83-fa40-45e9-a010-c2cdc82222d3')\"\n",
              "                title=\"Suggest charts\"\n",
              "                style=\"display:none;\">\n",
              "\n",
              "<svg xmlns=\"http://www.w3.org/2000/svg\" height=\"24px\"viewBox=\"0 0 24 24\"\n",
              "     width=\"24px\">\n",
              "    <g>\n",
              "        <path d=\"M19 3H5c-1.1 0-2 .9-2 2v14c0 1.1.9 2 2 2h14c1.1 0 2-.9 2-2V5c0-1.1-.9-2-2-2zM9 17H7v-7h2v7zm4 0h-2V7h2v10zm4 0h-2v-4h2v4z\"/>\n",
              "    </g>\n",
              "</svg>\n",
              "      </button>\n",
              "\n",
              "<style>\n",
              "  .colab-df-quickchart {\n",
              "      --bg-color: #E8F0FE;\n",
              "      --fill-color: #1967D2;\n",
              "      --hover-bg-color: #E2EBFA;\n",
              "      --hover-fill-color: #174EA6;\n",
              "      --disabled-fill-color: #AAA;\n",
              "      --disabled-bg-color: #DDD;\n",
              "  }\n",
              "\n",
              "  [theme=dark] .colab-df-quickchart {\n",
              "      --bg-color: #3B4455;\n",
              "      --fill-color: #D2E3FC;\n",
              "      --hover-bg-color: #434B5C;\n",
              "      --hover-fill-color: #FFFFFF;\n",
              "      --disabled-bg-color: #3B4455;\n",
              "      --disabled-fill-color: #666;\n",
              "  }\n",
              "\n",
              "  .colab-df-quickchart {\n",
              "    background-color: var(--bg-color);\n",
              "    border: none;\n",
              "    border-radius: 50%;\n",
              "    cursor: pointer;\n",
              "    display: none;\n",
              "    fill: var(--fill-color);\n",
              "    height: 32px;\n",
              "    padding: 0;\n",
              "    width: 32px;\n",
              "  }\n",
              "\n",
              "  .colab-df-quickchart:hover {\n",
              "    background-color: var(--hover-bg-color);\n",
              "    box-shadow: 0 1px 2px rgba(60, 64, 67, 0.3), 0 1px 3px 1px rgba(60, 64, 67, 0.15);\n",
              "    fill: var(--button-hover-fill-color);\n",
              "  }\n",
              "\n",
              "  .colab-df-quickchart-complete:disabled,\n",
              "  .colab-df-quickchart-complete:disabled:hover {\n",
              "    background-color: var(--disabled-bg-color);\n",
              "    fill: var(--disabled-fill-color);\n",
              "    box-shadow: none;\n",
              "  }\n",
              "\n",
              "  .colab-df-spinner {\n",
              "    border: 2px solid var(--fill-color);\n",
              "    border-color: transparent;\n",
              "    border-bottom-color: var(--fill-color);\n",
              "    animation:\n",
              "      spin 1s steps(1) infinite;\n",
              "  }\n",
              "\n",
              "  @keyframes spin {\n",
              "    0% {\n",
              "      border-color: transparent;\n",
              "      border-bottom-color: var(--fill-color);\n",
              "      border-left-color: var(--fill-color);\n",
              "    }\n",
              "    20% {\n",
              "      border-color: transparent;\n",
              "      border-left-color: var(--fill-color);\n",
              "      border-top-color: var(--fill-color);\n",
              "    }\n",
              "    30% {\n",
              "      border-color: transparent;\n",
              "      border-left-color: var(--fill-color);\n",
              "      border-top-color: var(--fill-color);\n",
              "      border-right-color: var(--fill-color);\n",
              "    }\n",
              "    40% {\n",
              "      border-color: transparent;\n",
              "      border-right-color: var(--fill-color);\n",
              "      border-top-color: var(--fill-color);\n",
              "    }\n",
              "    60% {\n",
              "      border-color: transparent;\n",
              "      border-right-color: var(--fill-color);\n",
              "    }\n",
              "    80% {\n",
              "      border-color: transparent;\n",
              "      border-right-color: var(--fill-color);\n",
              "      border-bottom-color: var(--fill-color);\n",
              "    }\n",
              "    90% {\n",
              "      border-color: transparent;\n",
              "      border-bottom-color: var(--fill-color);\n",
              "    }\n",
              "  }\n",
              "</style>\n",
              "\n",
              "      <script>\n",
              "        async function quickchart(key) {\n",
              "          const quickchartButtonEl =\n",
              "            document.querySelector('#' + key + ' button');\n",
              "          quickchartButtonEl.disabled = true;  // To prevent multiple clicks.\n",
              "          quickchartButtonEl.classList.add('colab-df-spinner');\n",
              "          try {\n",
              "            const charts = await google.colab.kernel.invokeFunction(\n",
              "                'suggestCharts', [key], {});\n",
              "          } catch (error) {\n",
              "            console.error('Error during call to suggestCharts:', error);\n",
              "          }\n",
              "          quickchartButtonEl.classList.remove('colab-df-spinner');\n",
              "          quickchartButtonEl.classList.add('colab-df-quickchart-complete');\n",
              "        }\n",
              "        (() => {\n",
              "          let quickchartButtonEl =\n",
              "            document.querySelector('#df-223c6e83-fa40-45e9-a010-c2cdc82222d3 button');\n",
              "          quickchartButtonEl.style.display =\n",
              "            google.colab.kernel.accessAllowed ? 'block' : 'none';\n",
              "        })();\n",
              "      </script>\n",
              "    </div>\n",
              "\n",
              "    </div>\n",
              "  </div>\n"
            ],
            "text/plain": [
              "                    field relevance  \\\n",
              "0       analysis_priority      High   \n",
              "1    governance_sentiment    Medium   \n",
              "2   governance_confidence    Medium   \n",
              "3    governance_relevance    Medium   \n",
              "4  governance_topics_json    Medium   \n",
              "\n",
              "                                       justification recommendation  \n",
              "0  The analysis priority aligns with the focus on...           Keep  \n",
              "1  Governance sentiment is somewhat relevant give...           Keep  \n",
              "2  Confidence in governance sentiment is relevant...           Keep  \n",
              "3  Governance is mentioned but not the primary focus         Revise  \n",
              "4  Topics like board oversight are relevant but n...         Revise  "
            ]
          },
          "metadata": {},
          "output_type": "display_data"
        }
      ],
      "source": [
        "import re\n",
        "\n",
        "parsed_rows = []\n",
        "\n",
        "pattern = re.compile(\n",
        "    r\"`([^`]+)`: \\*\\*(High|Medium|Low) Relevance\\*\\* — (.*?)\\.\\s+\\*\\*Recommendation: (Keep|Revise|Remove)\\*\\*\",\n",
        "    re.DOTALL\n",
        ")\n",
        "\n",
        "for idx, response in enumerate(all_responses):\n",
        "    matches = pattern.findall(response)\n",
        "    if matches:\n",
        "        for field, relevance, justification, recommendation in matches:\n",
        "            parsed_rows.append({\n",
        "                \"field\": field.strip(),\n",
        "                \"relevance\": relevance.strip(),\n",
        "                \"justification\": justification.strip(),\n",
        "                \"recommendation\": recommendation.strip()\n",
        "            })\n",
        "    else:\n",
        "        print(f\"⚠️ No matches in response #{idx}\")\n",
        "        print(response[:300])  # optional preview of what failed\n",
        "\n",
        "parsed_df = pd.DataFrame(parsed_rows)\n",
        "\n",
        "if parsed_df.empty:\n",
        "    print(\"❌ Still no data parsed.\")\n",
        "else:\n",
        "    print(f\"✅ Parsed {len(parsed_df)} fields across {len(all_responses)} responses.\")\n",
        "    display(parsed_df.head())"
      ]
    },
    {
      "cell_type": "markdown",
      "metadata": {
        "id": "Z-MMr8uy0xrK"
      },
      "source": [
        "This block converts the categorical relevance labels (\"High\", \"Medium\", \"Low\") into numeric scores (3, 2, 1).\n",
        "\n",
        "This transformation allows for easier aggregation, filtering, and visualization of relevance scores across all parsed fields in the evaluation dataset."
      ]
    },
    {
      "cell_type": "code",
      "execution_count": 19,
      "metadata": {
        "id": "g_3TrnXnuLVD"
      },
      "outputs": [],
      "source": [
        "relevance_map = {\"High\": 3, \"Medium\": 2, \"Low\": 1}\n",
        "parsed_df[\"relevance_score\"] = parsed_df[\"relevance\"].map(relevance_map)"
      ]
    },
    {
      "cell_type": "markdown",
      "metadata": {
        "id": "5JLu5D500yeB"
      },
      "source": [
        "This block aggregates the evaluation results by metric field.\n",
        "\n",
        "For each field, it computes:\n",
        "- `avg_score`: average numerical relevance score (from 1 to 3)\n",
        "- `high_count`, `medium_count`, `low_count`: number of times each relevance level was assigned\n",
        "- `most_common_action`: most frequently recommended action (Keep, Revise, Remove)\n",
        "- `total`: total number of evaluations for that field\n",
        "\n",
        "The result (`agg_df`) summarizes how each metric performed across all reviewed threads, making it easier to identify consistently strong or weak metrics."
      ]
    },
    {
      "cell_type": "code",
      "execution_count": 20,
      "metadata": {
        "id": "S1r23N6uuNHW"
      },
      "outputs": [],
      "source": [
        "agg_df = parsed_df.groupby(\"field\").agg(\n",
        "    avg_score=(\"relevance_score\", \"mean\"),\n",
        "    high_count=(\"relevance\", lambda x: (x == \"High\").sum()),\n",
        "    medium_count=(\"relevance\", lambda x: (x == \"Medium\").sum()),\n",
        "    low_count=(\"relevance\", lambda x: (x == \"Low\").sum()),\n",
        "    most_common_action=(\"recommendation\", lambda x: x.mode().iloc[0] if not x.mode().empty else None),\n",
        "    total=(\"relevance\", \"count\")\n",
        ").reset_index()"
      ]
    },
    {
      "cell_type": "markdown",
      "metadata": {
        "id": "OiIY9OaX08AD"
      },
      "source": [
        "This block adds a new column `section` to identify the top-level category of each metric (e.g., `boe_priority_analysis`, `qa_dynamics_analysis`, etc.), based on the prefix of the `field` name.\n",
        "\n",
        "Then, it sorts the aggregated results (`agg_df`) first by `section` (alphabetically) and then by `avg_score` (descending), so that the most relevant metrics appear at the top of each section."
      ]
    },
    {
      "cell_type": "code",
      "execution_count": 21,
      "metadata": {
        "id": "1bqbaORUv_lt"
      },
      "outputs": [],
      "source": [
        "agg_df[\"section\"] = agg_df[\"field\"].apply(lambda x: x.split(\".\")[0])\n",
        "agg_df = agg_df.sort_values(by=[\"section\", \"avg_score\"], ascending=[True, False])"
      ]
    },
    {
      "cell_type": "markdown",
      "metadata": {
        "id": "TQl673mN09HU"
      },
      "source": [
        "This block rounds the average relevance scores to the nearest whole number (1, 2, or 3) and stores the result in a new column `avg_score_rounded`.\n",
        "\n",
        "It then prints:\n",
        "- The count of fields for each rounded score\n",
        "- The percentage distribution of those scores\n",
        "\n",
        "This provides a quick overview of how many metrics were generally considered highly, moderately, or weakly relevant.\n"
      ]
    },
    {
      "cell_type": "code",
      "execution_count": 22,
      "metadata": {
        "colab": {
          "base_uri": "https://localhost:8080/"
        },
        "id": "WEJSoKYvs4TE",
        "outputId": "6f4272d2-9913-4366-8c00-0ec3a5b2fe0c"
      },
      "outputs": [
        {
          "name": "stdout",
          "output_type": "stream",
          "text": [
            "avg_score_rounded\n",
            "3.0    24\n",
            "2.0    24\n",
            "1.0    11\n",
            "Name: count, dtype: int64\n",
            "avg_score_rounded\n",
            "3.0    40.677966\n",
            "2.0    40.677966\n",
            "1.0    18.644068\n",
            "Name: count, dtype: float64\n"
          ]
        }
      ],
      "source": [
        "agg_df['avg_score_rounded'] = agg_df['avg_score'].round()\n",
        "print(agg_df['avg_score_rounded'].value_counts())\n",
        "print(agg_df['avg_score_rounded'].value_counts()/agg_df['avg_score_rounded'].value_counts().sum()*100)"
      ]
    },
    {
      "cell_type": "markdown",
      "metadata": {
        "id": "Qd97Tj8w1HF5"
      },
      "source": [
        "This block shows how often each recommendation type (Keep, Revise, Remove) was assigned as the most common action for each metric.\n",
        "\n",
        "It prints:\n",
        "- The raw count of each recommendation\n",
        "- The percentage distribution\n",
        "\n",
        "Then, it calculates the combined percentage of metrics that were either marked as \"Keep\" or \"Revise\" — indicating the share of metrics that are considered useful or worth refining, as opposed to being discarded.\n"
      ]
    },
    {
      "cell_type": "code",
      "execution_count": 23,
      "metadata": {
        "colab": {
          "base_uri": "https://localhost:8080/"
        },
        "id": "D-k5pRMFvz1C",
        "outputId": "549a8a6b-b635-44e1-9b40-e64645d5faa8"
      },
      "outputs": [
        {
          "name": "stdout",
          "output_type": "stream",
          "text": [
            "most_common_action\n",
            "Keep      29\n",
            "Revise    19\n",
            "Remove    11\n",
            "Name: count, dtype: int64\n",
            "most_common_action\n",
            "Keep      49.152542\n",
            "Revise    32.203390\n",
            "Remove    18.644068\n",
            "Name: count, dtype: float64\n"
          ]
        },
        {
          "data": {
            "text/plain": [
              "81.35593220338983"
            ]
          },
          "execution_count": 23,
          "metadata": {},
          "output_type": "execute_result"
        }
      ],
      "source": [
        "print(agg_df['most_common_action'].value_counts())\n",
        "print(agg_df['most_common_action'].value_counts()/agg_df['most_common_action'].value_counts().sum()*100)\n",
        "dddf = agg_df['most_common_action'].value_counts()/agg_df['most_common_action'].value_counts().sum()*100\n",
        "dddf['Keep'] + dddf['Revise']"
      ]
    },
    {
      "cell_type": "markdown",
      "metadata": {
        "id": "Ws3_54YD1ODT"
      },
      "source": [
        "This block defines a helper function `safe_make_label()` that formats field names for display.\n",
        "\n",
        "If a field name contains a dot (e.g., `qa_dynamics_analysis.qa_deflection_score`), it splits it into a section and subfield and joins them with an arrow (`→`) for readability.\n",
        "\n",
        "The function is applied to all fields in `agg_df`, and the result is stored in a new column called `label`, which can be used in plots or tables for cleaner presentation.\n"
      ]
    },
    {
      "cell_type": "code",
      "execution_count": 24,
      "metadata": {
        "id": "BhnpPko5wOR5"
      },
      "outputs": [],
      "source": [
        "def safe_make_label(field):\n",
        "    if \".\" in field:\n",
        "        section, subfield = field.split(\".\", 1)\n",
        "        return f\"{section} → {subfield}\"\n",
        "    else:\n",
        "        return field  # fallback for fields without dot structure\n",
        "\n",
        "agg_df[\"label\"] = agg_df[\"field\"].apply(safe_make_label)"
      ]
    },
    {
      "cell_type": "markdown",
      "metadata": {
        "id": "u0I2DhyX1SIj"
      },
      "source": [
        "This block creates a horizontal bar chart to visualize the top 5 most relevant output metrics based on their average relevance scores.\n",
        "\n",
        "Steps:\n",
        "- Selects the top n fields with the highest `avg_score`\n",
        "- Plots them using a horizontal bar chart (`barh`) with scores on the x-axis\n",
        "- Adds numerical annotations next to each bar for clarity\n",
        "- Inverts the y-axis so the highest-ranked metric appears at the top\n",
        "\n",
        "The result highlights the strongest-performing metrics across all reviewed outputs.\n"
      ]
    },
    {
      "cell_type": "code",
      "execution_count": 41,
      "metadata": {
        "colab": {
          "base_uri": "https://localhost:8080/",
          "height": 407
        },
        "id": "3S4ZifaHuPHt",
        "outputId": "63cd36e7-72fc-4783-a4b3-002267f4b830"
      },
      "outputs": [
        {
          "data": {
            "image/png": "[encoded data removed]",
            "text/plain": [
              "<Figure size 1000x400 with 1 Axes>"
            ]
          },
          "metadata": {},
          "output_type": "display_data"
        }
      ],
      "source": [
        "import matplotlib.pyplot as plt\n",
        "\n",
        "# Join section and field for better readability\n",
        "agg_df[\"label\"] = agg_df['field']\n",
        "\n",
        "# Select top N for better readability\n",
        "top_n = 10\n",
        "plot_df = agg_df.sort_values(\"avg_score\", ascending=False).head(top_n)\n",
        "\n",
        "plt.figure(figsize=(10, 4))\n",
        "bars = plt.barh(plot_df[\"label\"], plot_df[\"avg_score\"], color=\"lightblue\")\n",
        "plt.xlabel(\"Average Relevance Score (High=3, Medium=2, Low=1)\")\n",
        "plt.title(f\"Top {top_n} Output Metrics by Relevance\")\n",
        "plt.gca().invert_yaxis()\n",
        "\n",
        "# Annotate values\n",
        "for bar in bars:\n",
        "    plt.text(bar.get_width() + 0.05, bar.get_y() + bar.get_height() / 2,\n",
        "             f\"{bar.get_width():.2f}\", va=\"center\", fontsize=8)\n",
        "\n",
        "plt.tight_layout()\n",
        "plt.show()"
      ]
    },
    {
      "cell_type": "markdown",
      "metadata": {
        "id": "w8ySZ4bl1TR8"
      },
      "source": [
        "This block creates a horizontal bar chart to visualize the 5 least relevant output metrics based on their average relevance scores.\n",
        "\n",
        "Steps:\n",
        "- Selects the bottom n fields with the lowest `avg_score`\n",
        "- Plots them as horizontal bars in light red\n",
        "- Adds numerical score annotations next to each bar\n",
        "- Inverts the y-axis so the least relevant metric appears at the top\n",
        "\n",
        "This visualization helps identify which metrics consistently received low relevance ratings across evaluations.\n"
      ]
    },
    {
      "cell_type": "code",
      "execution_count": 42,
      "metadata": {
        "colab": {
          "base_uri": "https://localhost:8080/",
          "height": 407
        },
        "id": "W79Wk15vxEbx",
        "outputId": "3ef6ca7c-8aa5-4ab8-b2fd-c8e160febe23"
      },
      "outputs": [
        {
          "data": {
            "image/png": "[encoded data removed]",
            "text/plain": [
              "<Figure size 1000x400 with 1 Axes>"
            ]
          },
          "metadata": {},
          "output_type": "display_data"
        }
      ],
      "source": [
        "bottom_n = 10\n",
        "bottom_df = agg_df.sort_values(\"avg_score\", ascending=True).head(bottom_n)\n",
        "\n",
        "plt.figure(figsize=(10, 4))\n",
        "bars = plt.barh(bottom_df[\"label\"], bottom_df[\"avg_score\"], color=\"#f08080\")  # light red\n",
        "\n",
        "plt.xlabel(\"Average Relevance Score (High=3, Medium=2, Low=1)\")\n",
        "plt.title(f\"Bottom {bottom_n} Least Relevant Output Metrics\")\n",
        "plt.gca().invert_yaxis()\n",
        "\n",
        "# Annotate scores\n",
        "for bar in bars:\n",
        "    plt.text(bar.get_width() + 0.05, bar.get_y() + bar.get_height() / 2,\n",
        "             f\"{bar.get_width():.2f}\", va=\"center\", fontsize=8)\n",
        "\n",
        "plt.tight_layout()\n",
        "plt.show()"
      ]
    },
    {
      "cell_type": "markdown",
      "metadata": {
        "id": "pQy_KEy2xsxo"
      },
      "source": [
        "# JUSTIFICATION ABOUT RELEVANCE"
      ]
    },
    {
      "cell_type": "markdown",
      "metadata": {
        "id": "GtpmPzHx1cKx"
      },
      "source": [
        "This block identifies the most and least relevant output metrics for further analysis or focused visualization.\n",
        "\n",
        "- `top_fields`: the top `n` fields with the highest average relevance scores\n",
        "- `bottom_fields`: the bottom `n` fields with the lowest scores\n",
        "- `target_fields`: a combined list of the top and bottom fields, typically used to filter or highlight key metrics in follow-up analysis\n"
      ]
    },
    {
      "cell_type": "code",
      "execution_count": 43,
      "metadata": {
        "id": "KbVpT8HoygGf"
      },
      "outputs": [],
      "source": [
        "top_fields = agg_df.sort_values(\"avg_score\", ascending=False).head(top_n)[\"field\"].tolist()\n",
        "bottom_fields = agg_df.sort_values(\"avg_score\", ascending=True).head(bottom_n)[\"field\"].tolist()\n",
        "\n",
        "target_fields = top_fields + bottom_fields"
      ]
    },
    {
      "cell_type": "markdown",
      "metadata": {
        "id": "V36kfW_Y1ji_"
      },
      "source": [
        "This block generates concise summaries for the most and least relevant output metrics by synthesizing reviewer justifications using GPT-4o.\n",
        "\n",
        "For each `field` in the top and bottom relevance groups:\n",
        "- It collects all relevance justifications from the parsed evaluations\n",
        "- Combines them into a bullet list\n",
        "- Sends this list to an LLM along with a system prompt asking for a 2–3 sentence synthesis\n",
        "\n",
        "The model is asked to highlight recurring themes, contradictions, weak evidence, or redundancy in how each metric was evaluated.\n",
        "\n",
        "Each resulting summary is stored in the `summaries` dictionary keyed by the metric name. Errors are caught and flagged if they occur.\n"
      ]
    },
    {
      "cell_type": "code",
      "execution_count": 44,
      "metadata": {
        "colab": {
          "base_uri": "https://localhost:8080/"
        },
        "id": "Xa5-HwPAykG8",
        "outputId": "ff75c245-8b91-419d-8530-01a06a6b4cc0"
      },
      "outputs": [
        {
          "name": "stderr",
          "output_type": "stream",
          "text": [
            "100%|██████████| 20/20 [01:16<00:00,  3.81s/it]\n"
          ]
        }
      ],
      "source": [
        "summaries = {}\n",
        "\n",
        "for field in tqdm(target_fields):\n",
        "    justifications = parsed_df[parsed_df[\"field\"] == field][\"justification\"].tolist()\n",
        "\n",
        "    # Combine justifications into a bullet list\n",
        "    formatted_justs = \"\\n\".join(f\"- {j}\" for j in justifications)\n",
        "\n",
        "    system_prompt = (\n",
        "        \"You are a regulatory model evaluation expert. Your task is to critically analyze how a specific output metric \"\n",
        "        \"was rated across multiple evaluations. The input includes multiple justifications from reviewers explaining \"\n",
        "        \"why this metric was rated High, Medium, or Low in relevance. Your goal is to synthesize these justifications \"\n",
        "        \"into a short but insightful explanation of the metric's actual value. Focus on patterns, judgment, and redundancy \"\n",
        "        \"if applicable. Avoid repeating surface-level reasoning.\"\n",
        "    )\n",
        "\n",
        "    user_prompt = f\"\"\"\n",
        "Below are relevance justifications for the metric '{field}':\n",
        "\n",
        "{formatted_justs}\n",
        "\n",
        "Please write 2–3 sentences that explain why this metric is considered {'highly' if field in top_15_fields else 'poorly'} relevant, based on the above.\n",
        "If there are contradictory opinions or weak evidence, reflect that.\n",
        "If the metric seems redundant or poorly defined, note that too.\n",
        "\"\"\"\n",
        "    try:\n",
        "        response = client.chat.completions.create(\n",
        "            model=\"gpt-4o\",\n",
        "            messages=[\n",
        "                {\"role\": \"system\", \"content\": system_prompt},\n",
        "                {\"role\": \"user\", \"content\": user_prompt}\n",
        "            ],\n",
        "            temperature=0.3,\n",
        "            max_tokens=300\n",
        "        )\n",
        "        response_text = response.choices[0].message.content.strip()\n",
        "        summaries[field] = response_text\n",
        "\n",
        "    except Exception as e:\n",
        "        print(f\"❌ Error processing '{field}': {e}\")\n",
        "        summaries[field] = \"ERROR\""
      ]
    },
    {
      "cell_type": "markdown",
      "metadata": {
        "id": "sbXMSP3I1wCk"
      },
      "source": [
        "This block displays the synthesized relevance summaries for the top and bottom metrics in a readable, styled HTML format.\n",
        "\n",
        "- `display_justified_summaries()` takes a dictionary of metric summaries and a title, then renders each metric name followed by its corresponding explanation.\n",
        "- The summaries are split into two groups: top 15 most relevant metrics and bottom 15 least relevant.\n",
        "- Each group is shown under a clear section title using formatted HTML for visual clarity in Jupyter or Colab environments.\n"
      ]
    },
    {
      "cell_type": "code",
      "execution_count": 45,
      "metadata": {
        "colab": {
          "base_uri": "https://localhost:8080/",
          "height": 1000
        },
        "id": "Jmb93Dbv_MXy",
        "outputId": "152ee5a5-a12c-465f-c863-12421828035e"
      },
      "outputs": [
        {
          "data": {
            "text/html": [
              "<h2>Top 10 Most Relevant Metrics</h2>"
            ],
            "text/plain": [
              "<IPython.core.display.HTML object>"
            ]
          },
          "metadata": {},
          "output_type": "display_data"
        },
        {
          "data": {
            "text/html": [
              "\n",
              "        <div style=\"margin-bottom: 20px;\">\n",
              "            <strong>financial_resilience_relevance</strong>\n",
              "            <div style=\"text-align: justify; margin-top: 5px;\">The metric 'financial_resilience_relevance' is considered highly relevant due to its consistent identification as the primary focus and concern of the conversation. The repeated emphasis on its centrality and pertinence suggests a strong consensus among reviewers about its critical importance. However, the justifications lack depth and specificity, as they predominantly reiterate the same point without providing detailed evidence or context, indicating potential redundancy in the evaluative process.</div>\n",
              "        </div>\n",
              "        "
            ],
            "text/plain": [
              "<IPython.core.display.HTML object>"
            ]
          },
          "metadata": {},
          "output_type": "display_data"
        },
        {
          "data": {
            "text/html": [
              "\n",
              "        <div style=\"margin-bottom: 20px;\">\n",
              "            <strong>financial_resilience_sentiment</strong>\n",
              "            <div style=\"text-align: justify; margin-top: 5px;\">The metric 'financial_resilience_sentiment' is considered highly relevant because it consistently emerges as a central theme in the conversation, as indicated by multiple reviewers. The repeated emphasis on its centrality suggests a strong consensus on its importance in evaluating the subject matter. However, the justifications lack depth and specificity, as they predominantly reiterate the same point without providing additional insights or context, which could suggest a potential redundancy in the evaluation process.</div>\n",
              "        </div>\n",
              "        "
            ],
            "text/plain": [
              "<IPython.core.display.HTML object>"
            ]
          },
          "metadata": {},
          "output_type": "display_data"
        },
        {
          "data": {
            "text/html": [
              "\n",
              "        <div style=\"margin-bottom: 20px;\">\n",
              "            <strong>financial_resilience_confidence</strong>\n",
              "            <div style=\"text-align: justify; margin-top: 5px;\">The metric 'financial_resilience_confidence' is consistently rated as highly relevant due to its central role in assessing financial stability and its alignment with the primary focus of the evaluations. Reviewers repeatedly emphasize the importance of confidence in both sentiment and analysis related to financial resilience, suggesting a strong consensus on its criticality for regulatory assessments. The justifications, while somewhat redundant, underscore a unanimous agreement on the metric's significance, indicating no contradictory opinions or weak evidence.</div>\n",
              "        </div>\n",
              "        "
            ],
            "text/plain": [
              "<IPython.core.display.HTML object>"
            ]
          },
          "metadata": {},
          "output_type": "display_data"
        },
        {
          "data": {
            "text/html": [
              "\n",
              "        <div style=\"margin-bottom: 20px;\">\n",
              "            <strong>financial_resilience_pra_refs_json</strong>\n",
              "            <div style=\"text-align: justify; margin-top: 5px;\">The metric 'financial_resilience_pra_refs_json' is considered highly relevant due to its consistent emphasis on the importance of PRA references, such as \"Basel 3.1\" and \"CRR,\" which are central to discussions on financial resilience. The repeated mention of these specific frameworks underscores their critical role in informing and supporting financial resilience analysis. While the justifications are somewhat redundant, they collectively highlight the metric's significance in aligning with established regulatory standards.</div>\n",
              "        </div>\n",
              "        "
            ],
            "text/plain": [
              "<IPython.core.display.HTML object>"
            ]
          },
          "metadata": {},
          "output_type": "display_data"
        },
        {
          "data": {
            "text/html": [
              "\n",
              "        <div style=\"margin-bottom: 20px;\">\n",
              "            <strong>financial_resilience_topics_json</strong>\n",
              "            <div style=\"text-align: justify; margin-top: 5px;\">The metric 'financial_resilience_topics_json' is considered highly relevant because it encompasses a range of critical topics directly tied to financial resilience, such as capital planning, capital ratios, interest rate risk, and net interest margin. These elements are consistently highlighted as central to the discussions, indicating a strong alignment with the core focus on financial resilience. The repeated emphasis on these specific topics suggests a comprehensive and well-defined metric that captures essential aspects of financial stability and risk management.</div>\n",
              "        </div>\n",
              "        "
            ],
            "text/plain": [
              "<IPython.core.display.HTML object>"
            ]
          },
          "metadata": {},
          "output_type": "display_data"
        },
        {
          "data": {
            "text/html": [
              "\n",
              "        <div style=\"margin-bottom: 20px;\">\n",
              "            <strong>regulatory_topic_category</strong>\n",
              "            <div style=\"text-align: justify; margin-top: 5px;\">The justifications for the 'regulatory_topic_category' metric predominantly emphasize its centrality and importance in focusing and aligning the regulatory analysis. However, the repetitive nature of these statements suggests a lack of depth in the reasoning, as they primarily reiterate the same point without providing concrete examples or evidence of its impact. This redundancy and absence of detailed justification may indicate that while the metric is perceived as relevant, its actual contribution to the analysis might be overstated or poorly defined, lacking nuanced evaluation of its specific value or effectiveness.</div>\n",
              "        </div>\n",
              "        "
            ],
            "text/plain": [
              "<IPython.core.display.HTML object>"
            ]
          },
          "metadata": {},
          "output_type": "display_data"
        },
        {
          "data": {
            "text/html": [
              "\n",
              "        <div style=\"margin-bottom: 20px;\">\n",
              "            <strong>primary_regulatory_concern</strong>\n",
              "            <div style=\"text-align: justify; margin-top: 5px;\">The metric 'primary_regulatory_concern' appears to be rated highly due to its perceived importance in focusing regulatory efforts and aligning with analytical objectives. However, the justifications provided are largely repetitive and lack depth, primarily reiterating that identifying the primary concern is crucial without offering specific insights or evidence of its unique value. This redundancy suggests that while the metric may be conceptually important, its actual relevance could be overstated or poorly defined, as the justifications fail to demonstrate a nuanced understanding of its impact or necessity beyond the surface level.</div>\n",
              "        </div>\n",
              "        "
            ],
            "text/plain": [
              "<IPython.core.display.HTML object>"
            ]
          },
          "metadata": {},
          "output_type": "display_data"
        },
        {
          "data": {
            "text/html": [
              "\n",
              "        <div style=\"margin-bottom: 20px;\">\n",
              "            <strong>primary_boe_priority</strong>\n",
              "            <div style=\"text-align: justify; margin-top: 5px;\">The metric 'primary_boe_priority' is consistently rated as highly relevant due to its role in pinpointing the central focus of regulatory efforts, which is deemed essential for both analysis and alignment with regulatory objectives. However, the justifications provided are largely repetitive and lack depth, merely reiterating the importance of identifying the primary priority without offering substantial evidence or varied perspectives. This redundancy suggests that while the metric is considered important, the evaluations do not provide a nuanced understanding of its specific impact or effectiveness, potentially indicating a need for clearer definition or more comprehensive assessment criteria.</div>\n",
              "        </div>\n",
              "        "
            ],
            "text/plain": [
              "<IPython.core.display.HTML object>"
            ]
          },
          "metadata": {},
          "output_type": "display_data"
        },
        {
          "data": {
            "text/html": [
              "\n",
              "        <div style=\"margin-bottom: 20px;\">\n",
              "            <strong>concern_confidence_score</strong>\n",
              "            <div style=\"text-align: justify; margin-top: 5px;\">The 'concern_confidence_score' metric appears to be rated highly by most reviewers due to its perceived importance in assessing and analyzing primary regulatory concerns. However, the justifications largely repeat the notion that confidence is crucial without providing specific evidence or examples of its impact, suggesting a lack of depth in the evaluation. Additionally, one dissenting opinion notes that while relevant, the metric is not critical, indicating some ambiguity about its true necessity and potential redundancy in the context of comprehensive regulatory analysis.</div>\n",
              "        </div>\n",
              "        "
            ],
            "text/plain": [
              "<IPython.core.display.HTML object>"
            ]
          },
          "metadata": {},
          "output_type": "display_data"
        },
        {
          "data": {
            "text/html": [
              "\n",
              "        <div style=\"margin-bottom: 20px;\">\n",
              "            <strong>analyst_persistence_intensity</strong>\n",
              "            <div style=\"text-align: justify; margin-top: 5px;\">The metric 'analyst_persistence_intensity' is largely considered highly relevant, as most justifications emphasize its centrality and crucial role in understanding conversation dynamics and Q&A analysis. However, there is a notable contradiction with one reviewer suggesting it is only somewhat relevant, indicating a potential lack of consensus or clarity in its definition and application. Additionally, the repetitive nature of the justifications without deeper insights or differentiation suggests that the metric may be poorly defined or its unique contribution to the analysis is not clearly articulated.</div>\n",
              "        </div>\n",
              "        "
            ],
            "text/plain": [
              "<IPython.core.display.HTML object>"
            ]
          },
          "metadata": {},
          "output_type": "display_data"
        }
      ],
      "source": [
        "from IPython.display import display, HTML\n",
        "\n",
        "def display_justified_summaries(summary_dict, title):\n",
        "    display(HTML(f\"<h2>{title}</h2>\"))\n",
        "\n",
        "    for field, summary in summary_dict.items():\n",
        "        html = f\"\"\"\n",
        "        <div style=\"margin-bottom: 20px;\">\n",
        "            <strong>{field}</strong>\n",
        "            <div style=\"text-align: justify; margin-top: 5px;\">{summary}</div>\n",
        "        </div>\n",
        "        \"\"\"\n",
        "        display(HTML(html))\n",
        "\n",
        "# Split\n",
        "top_summaries = {k: summaries[k] for k in list(summaries.keys())[:top_n]}\n",
        "bottom_summaries = {k: summaries[k] for k in list(summaries.keys())[bottom_n:]}\n",
        "\n",
        "# Display\n",
        "display_justified_summaries(top_summaries, \"Top {} Most Relevant Metrics\".format(top_n))"
      ]
    },
    {
      "cell_type": "code",
      "execution_count": 46,
      "metadata": {
        "colab": {
          "base_uri": "https://localhost:8080/",
          "height": 1000
        },
        "id": "_IXWztu41zKS",
        "outputId": "aa1703df-23a5-40b5-ebb5-735d9a5136ed"
      },
      "outputs": [
        {
          "data": {
            "text/html": [
              "<h2>Bottom 10 Least Relevant Metrics</h2>"
            ],
            "text/plain": [
              "<IPython.core.display.HTML object>"
            ]
          },
          "metadata": {},
          "output_type": "display_data"
        },
        {
          "data": {
            "text/html": [
              "\n",
              "        <div style=\"margin-bottom: 20px;\">\n",
              "            <strong>peer_comparison_flags_json</strong>\n",
              "            <div style=\"text-align: justify; margin-top: 5px;\">The metric 'peer_comparison_flags_json' is consistently rated as having low relevance due to its lack of direct connection to the primary focus of the conversation or analysis. Reviewers repeatedly emphasize that peer comparisons are neither central nor discussed within the context, indicating a consensus that this metric does not contribute meaningful insights to the evaluation at hand. The redundancy in the justifications highlights a clear pattern of irrelevance, suggesting that the metric may be poorly defined or misaligned with the core objectives of the analysis.</div>\n",
              "        </div>\n",
              "        "
            ],
            "text/plain": [
              "<IPython.core.display.HTML object>"
            ]
          },
          "metadata": {},
          "output_type": "display_data"
        },
        {
          "data": {
            "text/html": [
              "\n",
              "        <div style=\"margin-bottom: 20px;\">\n",
              "            <strong>data_risk_sentiment</strong>\n",
              "            <div style=\"text-align: justify; margin-top: 5px;\">The metric 'data_risk_sentiment' is considered poorly relevant because the majority of evaluations consistently indicate that data risk is not a focus or significant topic in the conversation. The repeated emphasis on its absence or minimal discussion suggests a consensus on its low relevance. Although one reviewer mentions a slight relevance due to IFRS 17 adjustments, this isolated observation does not outweigh the predominant view, highlighting a potential redundancy or misalignment of the metric with the conversation's primary themes.</div>\n",
              "        </div>\n",
              "        "
            ],
            "text/plain": [
              "<IPython.core.display.HTML object>"
            ]
          },
          "metadata": {},
          "output_type": "display_data"
        },
        {
          "data": {
            "text/html": [
              "\n",
              "        <div style=\"margin-bottom: 20px;\">\n",
              "            <strong>data_risk_pra_refs_json</strong>\n",
              "            <div style=\"text-align: justify; margin-top: 5px;\">The metric 'data_risk_pra_refs_json' is considered poorly relevant because the majority of reviewers consistently indicate that PRA references related to data risk are not central, pertinent, or applicable to the conversation. There is a clear pattern of redundancy in the justifications, with multiple reviewers echoing the sentiment that these references do not contribute meaningfully to the discussion. Additionally, the occasional mention of \"data governance\" being somewhat relevant suggests a potential misalignment or lack of clarity in the metric's definition, further diminishing its perceived value.</div>\n",
              "        </div>\n",
              "        "
            ],
            "text/plain": [
              "<IPython.core.display.HTML object>"
            ]
          },
          "metadata": {},
          "output_type": "display_data"
        },
        {
          "data": {
            "text/html": [
              "\n",
              "        <div style=\"margin-bottom: 20px;\">\n",
              "            <strong>data_risk_relevance</strong>\n",
              "            <div style=\"text-align: justify; margin-top: 5px;\">The metric 'data_risk_relevance' is consistently rated as having low relevance due to its minimal presence and focus within the conversation, as highlighted by the repeated emphasis on its lack of significance or primary concern. The overwhelming consensus among reviewers indicates that data risk is not a central topic, with only a single mention of its relevance tied to financial reporting accuracy, which appears to be an outlier rather than a common theme. This suggests that the metric may be redundant or poorly defined in this context, as it does not align with the primary objectives or discussions at hand.</div>\n",
              "        </div>\n",
              "        "
            ],
            "text/plain": [
              "<IPython.core.display.HTML object>"
            ]
          },
          "metadata": {},
          "output_type": "display_data"
        },
        {
          "data": {
            "text/html": [
              "\n",
              "        <div style=\"margin-bottom: 20px;\">\n",
              "            <strong>data_risk_confidence</strong>\n",
              "            <div style=\"text-align: justify; margin-top: 5px;\">The metric 'data_risk_confidence' is considered poorly relevant primarily because it is consistently deemed unnecessary and not central to the main themes of the discussions being evaluated. Reviewers frequently highlight the lack of discussion and support for data risk analysis and sentiment, suggesting that it does not play a significant role in the context of the evaluations. Additionally, the metric appears redundant and poorly defined, with only one mention of moderate relevance tied to financial reporting, which is insufficient to establish its overall importance.</div>\n",
              "        </div>\n",
              "        "
            ],
            "text/plain": [
              "<IPython.core.display.HTML object>"
            ]
          },
          "metadata": {},
          "output_type": "display_data"
        },
        {
          "data": {
            "text/html": [
              "\n",
              "        <div style=\"margin-bottom: 20px;\">\n",
              "            <strong>data_risk_topics_json</strong>\n",
              "            <div style=\"text-align: justify; margin-top: 5px;\">The metric 'data_risk_topics_json' is considered poorly relevant because the justifications consistently highlight the absence or minimal presence of data risk topics in the discussions. Reviewers repeatedly note that topics central to data risk are either not mentioned or are not the focus, indicating a lack of alignment between the metric and the content being evaluated. Additionally, the few topics mentioned, such as \"capital calculations\" and \"cost reconciliation,\" are deemed peripheral or unrelated to data risk, suggesting that the metric may be redundant or poorly defined in the context of the evaluations.</div>\n",
              "        </div>\n",
              "        "
            ],
            "text/plain": [
              "<IPython.core.display.HTML object>"
            ]
          },
          "metadata": {},
          "output_type": "display_data"
        },
        {
          "data": {
            "text/html": [
              "\n",
              "        <div style=\"margin-bottom: 20px;\">\n",
              "            <strong>governance_pra_refs_json</strong>\n",
              "            <div style=\"text-align: justify; margin-top: 5px;\">The metric 'governance_pra_refs_json' is considered poorly relevant primarily because, while PRA references such as \"SS5/21\" are acknowledged as relevant to the governance context, they are not central or strongly emphasized in the discussions. Multiple reviewers consistently note that these references are not pertinent to or clearly linked with the core conversation, suggesting a lack of direct impact or focus. Additionally, the repetition of similar points across evaluations indicates a potential redundancy or lack of clarity in defining the metric's role within the broader governance framework.</div>\n",
              "        </div>\n",
              "        "
            ],
            "text/plain": [
              "<IPython.core.display.HTML object>"
            ]
          },
          "metadata": {},
          "output_type": "display_data"
        },
        {
          "data": {
            "text/html": [
              "\n",
              "        <div style=\"margin-bottom: 20px;\">\n",
              "            <strong>governance_sentiment</strong>\n",
              "            <div style=\"text-align: justify; margin-top: 5px;\">The metric 'governance_sentiment' is considered poorly relevant because it consistently appears as a secondary or peripheral topic in the evaluations. The repeated emphasis on governance not being the primary focus or central theme suggests that while it is acknowledged, it lacks substantial impact or depth in the discussions. This redundancy in feedback highlights a consensus that the metric does not significantly contribute to the overall evaluation, indicating it may be poorly defined or misaligned with the core objectives of the analysis.</div>\n",
              "        </div>\n",
              "        "
            ],
            "text/plain": [
              "<IPython.core.display.HTML object>"
            ]
          },
          "metadata": {},
          "output_type": "display_data"
        },
        {
          "data": {
            "text/html": [
              "\n",
              "        <div style=\"margin-bottom: 20px;\">\n",
              "            <strong>governance_relevance</strong>\n",
              "            <div style=\"text-align: justify; margin-top: 5px;\">The metric 'governance_relevance' is consistently rated as having low relevance across the evaluations, as it is repeatedly described as not being the primary focus or a significant aspect of the conversation. The reviewers uniformly indicate that while governance is mentioned, it remains a secondary or peripheral concern. This consensus suggests that the metric may be redundant or poorly defined in the context of the discussions being evaluated, as it fails to capture a central theme or significant impact.</div>\n",
              "        </div>\n",
              "        "
            ],
            "text/plain": [
              "<IPython.core.display.HTML object>"
            ]
          },
          "metadata": {},
          "output_type": "display_data"
        },
        {
          "data": {
            "text/html": [
              "\n",
              "        <div style=\"margin-bottom: 20px;\">\n",
              "            <strong>governance_topics_json</strong>\n",
              "            <div style=\"text-align: justify; margin-top: 5px;\">The 'governance_topics_json' metric is considered poorly relevant because the governance topics it covers, such as board oversight and strategic decision-making, are consistently deemed not central to the conversation. Reviewers repeatedly note that these topics are not significantly or prominently discussed, indicating a misalignment with the primary focus of the conversation. The redundancy in feedback highlights a consensus that while these topics may hold some relevance, they lack the depth and centrality necessary to be deemed highly relevant in this context.</div>\n",
              "        </div>\n",
              "        "
            ],
            "text/plain": [
              "<IPython.core.display.HTML object>"
            ]
          },
          "metadata": {},
          "output_type": "display_data"
        }
      ],
      "source": [
        "display_justified_summaries(bottom_summaries, \"Bottom {} Least Relevant Metrics\".format(bottom_n))"
      ]
    }
  ],
  "metadata": {
    "accelerator": "GPU",
    "colab": {
      "collapsed_sections": [
        "pQy_KEy2xsxo"
      ],
      "gpuType": "T4",
      "provenance": [],
      "toc_visible": true
    },
    "kernelspec": {
      "display_name": "Python 3",
      "name": "python3"
    },
    "language_info": {
      "name": "python"
    }
  },
  "nbformat": 4,
  "nbformat_minor": 0
}
